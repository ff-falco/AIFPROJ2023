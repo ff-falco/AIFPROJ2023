{
 "cells": [
  {
   "cell_type": "markdown",
   "metadata": {},
   "source": [
    "# Libraries"
   ]
  },
  {
   "cell_type": "code",
   "execution_count": 1,
   "metadata": {},
   "outputs": [
    {
     "ename": "ModuleNotFoundError",
     "evalue": "No module named 'algorithms'",
     "output_type": "error",
     "traceback": [
      "\u001b[0;31m---------------------------------------------------------------------------\u001b[0m",
      "\u001b[0;31mModuleNotFoundError\u001b[0m                       Traceback (most recent call last)",
      "Cell \u001b[0;32mIn[1], line 5\u001b[0m\n\u001b[1;32m      3\u001b[0m \u001b[38;5;28;01mimport\u001b[39;00m \u001b[38;5;21;01mmatplotlib\u001b[39;00m\u001b[38;5;21;01m.\u001b[39;00m\u001b[38;5;21;01mpyplot\u001b[39;00m \u001b[38;5;28;01mas\u001b[39;00m \u001b[38;5;21;01mplt\u001b[39;00m\n\u001b[1;32m      4\u001b[0m \u001b[38;5;28;01mfrom\u001b[39;00m \u001b[38;5;21;01mpyswip\u001b[39;00m \u001b[38;5;28;01mimport\u001b[39;00m Prolog\n\u001b[0;32m----> 5\u001b[0m \u001b[38;5;28;01mfrom\u001b[39;00m \u001b[38;5;21;01mutils\u001b[39;00m \u001b[38;5;28;01mimport\u001b[39;00m process_state, perform_action, show_match\n\u001b[1;32m      6\u001b[0m \u001b[38;5;28;01mfrom\u001b[39;00m \u001b[38;5;21;01mnle\u001b[39;00m \u001b[38;5;28;01mimport\u001b[39;00m nethack\n\u001b[1;32m      7\u001b[0m \u001b[38;5;28;01mfrom\u001b[39;00m \u001b[38;5;21;01mrun\u001b[39;00m \u001b[38;5;28;01mimport\u001b[39;00m completemapdes,roomroomdes,mazeroomdes\n",
      "File \u001b[0;32m/mnt/c/UNI/AIF/AIFPROJ2023/GreedMode/utils.py:4\u001b[0m\n\u001b[1;32m      2\u001b[0m \u001b[38;5;28;01mimport\u001b[39;00m \u001b[38;5;21;01mIPython\u001b[39;00m\u001b[38;5;21;01m.\u001b[39;00m\u001b[38;5;21;01mdisplay\u001b[39;00m \u001b[38;5;28;01mas\u001b[39;00m \u001b[38;5;21;01mdisplay\u001b[39;00m\n\u001b[1;32m      3\u001b[0m \u001b[38;5;28;01mimport\u001b[39;00m \u001b[38;5;21;01mtime\u001b[39;00m\n\u001b[0;32m----> 4\u001b[0m \u001b[38;5;28;01mfrom\u001b[39;00m \u001b[38;5;21;01malgorithms\u001b[39;00m \u001b[38;5;28;01mimport\u001b[39;00m a_star\n\u001b[1;32m      5\u001b[0m \u001b[38;5;28;01mfrom\u001b[39;00m \u001b[38;5;21;01mpyswip\u001b[39;00m \u001b[38;5;28;01mimport\u001b[39;00m Prolog\n\u001b[1;32m      6\u001b[0m \u001b[38;5;28;01mfrom\u001b[39;00m \u001b[38;5;21;01mminihack\u001b[39;00m \u001b[38;5;28;01mimport\u001b[39;00m LevelGenerator\n",
      "\u001b[0;31mModuleNotFoundError\u001b[0m: No module named 'algorithms'"
     ]
    }
   ],
   "source": [
    "import gym\n",
    "import time\n",
    "import matplotlib.pyplot as plt\n",
    "from pyswip import Prolog\n",
    "from utils import process_state, perform_action, show_match\n",
    "from nle import nethack\n",
    "from run import completemapdes,roomroomdes,mazeroomdes\n",
    "import random\n",
    "from utilsbattle import get_player_location, get_target_location,get_money_location,get_closest_gold, chebyshev_distance,actions_from_path,get_stair_location\n",
    "from algorithms import a_star\n",
    "import IPython.display as display\n",
    "import copy as cp"
   ]
  },
  {
   "cell_type": "markdown",
   "metadata": {},
   "source": [
    "# Simulation parameters"
   ]
  },
  {
   "cell_type": "code",
   "execution_count": null,
   "metadata": {},
   "outputs": [],
   "source": [
    "NUM_EPISODES = 5\n",
    "MAX_STEPS = 100\n",
    "PATH = 'kb-battle.pl'\n",
    "RISK_THRESHOLD=1# when the agent feels it's not healthy anymore\n",
    "MONEY_THRESHOLD=1\n",
    "MONEY=40\n",
    "ARROWS= 2\n",
    "ARROWS_THRESHOLD=4"
   ]
  },
  {
   "cell_type": "markdown",
   "metadata": {},
   "source": [
    "Initialize the knowledge base."
   ]
  },
  {
   "cell_type": "code",
   "execution_count": null,
   "metadata": {},
   "outputs": [],
   "source": [
    "KB = Prolog()\n",
    "KB.consult(PATH)\n",
    "\n",
    "KB.retractall('onPlan(_)')\n",
    "#caricamento fatti nella KB\n",
    "#KB.asserta(f\"health_threshold({RISK_THRESHOLD})\")\n",
    "#KB.asserta(f\"money_threshold({MONEY_THRESHOLD})\")\n",
    "KB.asserta(f\"money({MONEY})\")\n",
    "#KB.asserta(f\"arrows({ARROWS})\")\n",
    "#KB.asserta(f\"arrows_threshold({ARROWS_THRESHOLD})\")\n",
    "#KB.asserta(f\"corridors\")\n",
    "\n"
   ]
  },
  {
   "cell_type": "markdown",
   "metadata": {},
   "source": [
    "#### Main code\n",
    "- Perform `NUM_EPISODES` experiences in the environment.\n",
    "- Use `Prolog` to define the axioms and choose the action to perform.\n",
    "- The main goal is to _reach and eat_ the `apple`."
   ]
  },
  {
   "cell_type": "code",
   "execution_count": null,
   "metadata": {},
   "outputs": [],
   "source": [
    "rewards = []\n",
    "action=None\n",
    "for episode in range(NUM_EPISODES):\n",
    "    des_file= completemapdes(1,20)  #creashop(episode+1,random.randint(0,200))\n",
    "    actions=tuple(nethack.CompassDirection )+(nethack.Command.PICKUP,nethack.Command.PAY,nethack.Command.WIELD)\n",
    "\n",
    "    env = gym.make('MiniHack-Skill-Custom-v0',\n",
    "               observation_keys=('screen_descriptions','inv_strs','blstats','message','pixel','chars','inv_oclasses','glyphs'),\n",
    "               des_file=des_file)\n",
    "\n",
    "    # count the number of steps of the current episode\n",
    "    steps = 0\n",
    "    # store the cumulative reward\n",
    "    reward = 0.0\n",
    "    # collect obs['pixel'] to visualize\n",
    "    ep_states = []\n",
    "\n",
    "    obs = env.reset()\n",
    "    env.render()\n",
    "    plt.imshow(obs['pixel'][0:1000, 200:1000])\n",
    "    ep_states.append(obs['pixel'])\n",
    "    done = False\n",
    "\n",
    "    # Main loop\n",
    "    while not done and steps < MAX_STEPS:\n",
    "        # Get the observation from the env and assert the facts in the kb \n",
    "        process_state(obs, KB)\n",
    "        try:\n",
    "            actions=list(KB.query('action(X)'))\n",
    "            action = actions[0]\n",
    "            action = action['X']\n",
    "\n",
    "        except Exception as e:\n",
    "            action = None\n",
    "        # Perform the action in the environment\n",
    "        if action:\n",
    "            obs, reward, done, info = perform_action(action, env,KB)\n",
    "            ep_states.append(obs['pixel'])\n",
    "            env.render()\n",
    "        else:\n",
    "            env.render()\n",
    "            break\n",
    "        steps += 1\n",
    "    # Display game with interface\n",
    "    #show_match(ep_states)\n",
    "    \n",
    "    rewards.append(reward)\n",
    "    # reset the environment and retract axioms that may cause errors\n",
    "    obs = env.reset()\n",
    "    KB.retractall('stepping_on(agent,_,_)')\n",
    "    KB.retractall('position(_,_,_,_)')\n",
    "\n",
    "\n",
    "print(f'After {NUM_EPISODES} episodes, mean return is {sum(rewards)/NUM_EPISODES}')\n",
    "print(\"The rewards of the episodes are:\", rewards)"
   ]
  },
  {
   "cell_type": "markdown",
   "metadata": {},
   "source": [
    "-------------------------------------"
   ]
  },
  {
   "cell_type": "code",
   "execution_count": null,
   "metadata": {},
   "outputs": [],
   "source": [
    "des_file= roomroomdes(20,1)\n",
    "env = gym.make('MiniHack-Skill-Custom-v0',\n",
    "               observation_keys=('screen_descriptions','inv_strs','blstats','message','pixel','chars','inv_oclasses','glyphs'),\n",
    "               des_file=des_file)\n",
    "state = env.reset()\n",
    "env.render()\n",
    "        \n",
    "\n"
   ]
  },
  {
   "cell_type": "code",
   "execution_count": null,
   "metadata": {},
   "outputs": [
    {
     "name": "stdout",
     "output_type": "stream",
     "text": [
      "Episode: 0 Start\n",
      "Episode: 1 Start\n",
      "Episode: 2 Start\n",
      "Episode: 3 Start\n",
      "Episode: 4 Start\n",
      "Episode: 5 Start\n",
      "Episode: 6 Start\n",
      "Episode: 7 Start\n",
      "Episode: 8 Start\n",
      "Episode: 9 Start\n",
      "Episode: 10 Start\n",
      "Episode: 11 Start\n",
      "Episode: 12 Start\n",
      "Episode: 13 Start\n",
      "Episode: 14 Start\n",
      "Episode: 15 Start\n",
      "Episode: 16 Start\n",
      "Episode: 17 Start\n",
      "Episode: 18 Start\n",
      "Episode: 19 Start\n",
      "Episode: 20 Start\n",
      "Episode: 21 Start\n",
      "Episode: 22 Start\n",
      "Episode: 23 Start\n",
      "Episode: 24 Start\n",
      "Episode: 25 Start\n",
      "Episode: 26 Start\n",
      "Episode: 27 Start\n",
      "Episode: 28 Start\n",
      "Episode: 29 Start\n",
      "Episode: 30 Start\n",
      "Episode: 31 Start\n",
      "Episode: 32 Start\n",
      "Episode: 33 Start\n",
      "Episode: 34 Start\n",
      "Episode: 35 Start\n",
      "Episode: 36 Start\n",
      "Episode: 37 Start\n",
      "Episode: 38 Start\n",
      "Episode: 39 Start\n",
      "Episode: 40 Start\n",
      "Episode: 41 Start\n",
      "Episode: 42 Start\n",
      "Episode: 43 Start\n",
      "Episode: 44 Start\n",
      "Episode: 45 Start\n",
      "Episode: 46 Start\n",
      "Episode: 47 Start\n",
      "Episode: 48 Start\n",
      "Episode: 49 Start\n",
      "Episode: 50 Start\n",
      "Episode: 51 Start\n",
      "Episode: 52 Start\n",
      "Episode: 53 Start\n",
      "cannot unpack non-iterable NoneType object\n"
     ]
    },
    {
     "ename": "Exception",
     "evalue": "cannot unpack non-iterable NoneType object",
     "output_type": "error",
     "traceback": [
      "\u001b[0;31m---------------------------------------------------------------------------\u001b[0m",
      "\u001b[0;31mTypeError\u001b[0m                                 Traceback (most recent call last)",
      "Cell \u001b[0;32mIn[4], line 62\u001b[0m\n\u001b[1;32m     61\u001b[0m \u001b[38;5;28;01mtry\u001b[39;00m :\n\u001b[0;32m---> 62\u001b[0m     obs, reward, done, info, planned_actions \u001b[38;5;241m=\u001b[39m \u001b[43mperform_action\u001b[49m\u001b[43m(\u001b[49m\u001b[43maction\u001b[49m\u001b[43m,\u001b[49m\u001b[43m \u001b[49m\u001b[43menv\u001b[49m\u001b[43m,\u001b[49m\u001b[43mKB\u001b[49m\u001b[43m,\u001b[49m\u001b[43mplanned_actions\u001b[49m\u001b[43m,\u001b[49m\u001b[43mobs\u001b[49m\u001b[43m)\u001b[49m\n\u001b[1;32m     63\u001b[0m     ep_states\u001b[38;5;241m.\u001b[39mappend(obs[\u001b[38;5;124m'\u001b[39m\u001b[38;5;124mpixel\u001b[39m\u001b[38;5;124m'\u001b[39m])\n",
      "File \u001b[0;32m~/Documents/Notebooks/NetHack/GreedMode/utils.py:83\u001b[0m, in \u001b[0;36mperform_action\u001b[0;34m(action, env, kb, planned_actions, obs)\u001b[0m\n\u001b[1;32m     81\u001b[0m game_map \u001b[38;5;241m=\u001b[39m obs[\u001b[38;5;124m'\u001b[39m\u001b[38;5;124mchars\u001b[39m\u001b[38;5;124m'\u001b[39m]\n\u001b[0;32m---> 83\u001b[0m path,_ \u001b[38;5;241m=\u001b[39m a_star(game_map, start, gold_pos,chebyshev_distance)\n\u001b[1;32m     84\u001b[0m \u001b[38;5;66;03m#print(f\"PATH:{path}\")\u001b[39;00m\n",
      "\u001b[0;31mTypeError\u001b[0m: cannot unpack non-iterable NoneType object",
      "\nDuring handling of the above exception, another exception occurred:\n",
      "\u001b[0;31mException\u001b[0m                                 Traceback (most recent call last)",
      "Cell \u001b[0;32mIn[4], line 67\u001b[0m\n\u001b[1;32m     65\u001b[0m         \u001b[38;5;28mprint\u001b[39m(e)\n\u001b[1;32m     66\u001b[0m         debug_kb \u001b[38;5;241m=\u001b[39m cp\u001b[38;5;241m.\u001b[39mdeepcopy(KB)\n\u001b[0;32m---> 67\u001b[0m         \u001b[38;5;28;01mraise\u001b[39;00m \u001b[38;5;167;01mException\u001b[39;00m(e)\n\u001b[1;32m     68\u001b[0m         \u001b[38;5;28;01mbreak\u001b[39;00m\n\u001b[1;32m     69\u001b[0m     \u001b[38;5;66;03m#env.render()\u001b[39;00m\n\u001b[1;32m     70\u001b[0m \u001b[38;5;28;01melse\u001b[39;00m:\n\u001b[1;32m     71\u001b[0m     \u001b[38;5;66;03m#env.render()\u001b[39;00m\n",
      "\u001b[0;31mException\u001b[0m: cannot unpack non-iterable NoneType object"
     ]
    }
   ],
   "source": [
    "statuses = list()\n",
    "debug_kb = None\n",
    "for episode in range(100):\n",
    "    print(f'Episode: {episode} Start')\n",
    "    des_file= mazeroomdes(4)\n",
    "    env = gym.make('MiniHack-Skill-Custom-v0', \n",
    "                    observation_keys=('screen_descriptions','inv_strs','blstats','message','pixel','chars','inv_oclasses','glyphs'),\n",
    "                    max_episode_steps = MAX_STEPS,\n",
    "                    des_file=des_file)\n",
    "    obs = env.reset()\n",
    "\n",
    "    game_map = obs['chars']\n",
    "    game = obs['pixel']\n",
    "\n",
    "    #retrieve map informations\n",
    "    start = get_player_location(game_map)\n",
    "    target = get_target_location(game_map)\n",
    "    stair_des_pos = get_stair_location(des_file)\n",
    "    delta_x, delta_y = (target[0]-stair_des_pos[0],target[1]-stair_des_pos[1])\n",
    "    gold_pos_list = get_money_location(des_file) #attento a formato tuple in lista\n",
    "\n",
    "    gold_pos_list = [(x+delta_x,y+delta_y)for (_,(x,y)) in gold_pos_list]\n",
    "\n",
    "    #put gold positions in kb\n",
    "\n",
    "    for (x,y) in gold_pos_list :\n",
    "        KB.asserta(f'position(gold,_,{x},{y})')\n",
    "\n",
    "    KB.asserta(f'position(stairs,_,{target[0]},{target[1]})')\n",
    "\n",
    "\n",
    "    steps = 0\n",
    "    done = False\n",
    "    planned_actions = None\n",
    "    ep_states = list()\n",
    "    ep_states.append(obs['pixel'])\n",
    "\n",
    "    #print(list(KB.query('position(gold,_,_,_)')))\n",
    "\n",
    "    while not done and steps < MAX_STEPS:\n",
    "\n",
    "        #print('Prima del process')\n",
    "        #print(list(KB.query('position(gold,_,_,_)')))\n",
    "\n",
    "        #update Kb with current information\n",
    "        process_state(obs,KB)\n",
    "\n",
    "        #choose next action\n",
    "        try:\n",
    "            #print(f'Step: {steps}')\n",
    "            actions=list(KB.query('action(X)'))\n",
    "            #print(actions)\n",
    "            action = actions[0]\n",
    "            action = action['X']\n",
    "            #print(f'>> Current action from Prolog: {action}')\n",
    "        except Exception as e:\n",
    "            print(e)\n",
    "            action = None\n",
    "        # Perform the action in the environment\n",
    "        if action:\n",
    "            try :\n",
    "                obs, reward, done, info, planned_actions = perform_action(action, env,KB,planned_actions,obs)\n",
    "                ep_states.append(obs['pixel'])\n",
    "            except Exception as e :\n",
    "                print(e)\n",
    "                debug_kb = cp.deepcopy(KB)\n",
    "                raise Exception(e)\n",
    "                break\n",
    "            #env.render()\n",
    "        else:\n",
    "            #env.render()\n",
    "            break\n",
    "        steps += 1\n",
    "\n",
    "    #show_match(ep_states)\n",
    "    \n",
    "\n",
    "    statuses.append(info['end_status'])\n",
    "    obs = env.reset()\n",
    "    KB.retractall('stepping_on(agent,_,_)')\n",
    "    KB.retractall('position(_,_,_,_)')\n",
    "    KB.retractall('onPlan(_)')\n",
    "    KB.retractall('money(_)')\n",
    "    KB.asserta(f\"money({MONEY})\")\n",
    "        \n",
    "        "
   ]
  },
  {
   "cell_type": "code",
   "execution_count": null,
   "metadata": {},
   "outputs": [],
   "source": [
    "des_file= mazeroomdes(4)\n",
    "env = gym.make('MiniHack-Skill-Custom-v0', \n",
    "                    observation_keys=('screen_descriptions','inv_strs','blstats','message','pixel','chars','inv_oclasses','glyphs'),\n",
    "                    max_episode_steps = MAX_STEPS,\n",
    "                    des_file=des_file)\n",
    "obs = env.reset()\n",
    "env.render()"
   ]
  },
  {
   "cell_type": "code",
   "execution_count": null,
   "metadata": {},
   "outputs": [
    {
     "data": {
      "text/plain": [
       "52"
      ]
     },
     "execution_count": 7,
     "metadata": {},
     "output_type": "execute_result"
    }
   ],
   "source": [
    "len([1 for el in statuses if el == statuses[0]])"
   ]
  },
  {
   "cell_type": "code",
   "execution_count": null,
   "metadata": {},
   "outputs": [],
   "source": []
  }
 ],
 "metadata": {
  "kernelspec": {
   "display_name": "nle",
   "language": "python",
   "name": "python3"
  },
  "language_info": {
   "codemirror_mode": {
    "name": "ipython",
    "version": 3
   },
   "file_extension": ".py",
   "mimetype": "text/x-python",
   "name": "python",
   "nbconvert_exporter": "python",
   "pygments_lexer": "ipython3",
   "version": "3.10.13"
  }
 },
 "nbformat": 4,
 "nbformat_minor": 2
}

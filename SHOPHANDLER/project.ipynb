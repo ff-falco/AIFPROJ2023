{
 "cells": [
  {
   "cell_type": "markdown",
   "metadata": {},
   "source": [
    "# Libraries"
   ]
  },
  {
   "cell_type": "code",
   "execution_count": 1,
   "metadata": {},
   "outputs": [],
   "source": [
    "import gym\n",
    "import matplotlib.pyplot as plt\n",
    "from pyswip import Prolog\n",
    "from utils import process_state, perform_action,extract_monsters, set_health, check_death, display_inventory\n",
    "from nle import nethack\n",
    "from utilsbattle import get_money_location, get_stair_location, get_target_location, get_reference_des\n",
    "import numpy as np\n",
    "import run"
   ]
  },
  {
   "cell_type": "markdown",
   "metadata": {},
   "source": [
    "# Simulation parameters"
   ]
  },
  {
   "cell_type": "code",
   "execution_count": 2,
   "metadata": {},
   "outputs": [],
   "source": [
    "NUM_EPISODES = 5\n",
    "MAX_STEPS = 100\n",
    "PATH = 'kb.pl'\n",
    "RISK_THRESHOLD=50# when the agent feels it's not healthy anymore\n",
    "MONEY_THRESHOLD=1\n",
    "MONEY=40\n",
    "ARROWS= 2\n",
    "ARROWS_THRESHOLD=4"
   ]
  },
  {
   "cell_type": "markdown",
   "metadata": {},
   "source": [
    "Initialize the knowledge base."
   ]
  },
  {
   "cell_type": "code",
   "execution_count": 3,
   "metadata": {},
   "outputs": [],
   "source": [
    "KB = Prolog()\n",
    "KB.consult(PATH)\n",
    "\n",
    "#KB.consult(BATTLE_PATH)\n",
    "\n",
    "\n",
    "#loading initial agent paramters into the knowledge base\n",
    "#KB.asserta(f\"health_threshold({RISK_THRESHOLD})\")\n",
    "#KB.asserta(f\"money_threshold({MONEY_THRESHOLD})\")\n",
    "#KB.asserta(f\"money({MONEY})\")\n",
    "#KB.retractall('onPlan(_)')\n",
    "#KB.asserta(f\"arrows_threshold({ARROWS_THRESHOLD})\")\n",
    "#KB.asserta(f\"arrows({ARROWS})\")\n",
    "\n",
    "\n",
    "\n"
   ]
  },
  {
   "cell_type": "markdown",
   "metadata": {},
   "source": [
    "#### Main code\n",
    "- Perform `NUM_EPISODES` experiences in the environment.\n",
    "- Use `Prolog` to define the axioms and choose the action to perform.\n",
    "- The main goal is to _reach and eat_ the `apple`."
   ]
  },
  {
   "cell_type": "code",
   "execution_count": 4,
   "metadata": {},
   "outputs": [],
   "source": [
    "def vacuum_experiment(des_file,room_type,starting_money,starting_health = 16,starting_items=[],debug = False) :\n",
    "\n",
    "    rewards = []\n",
    "    action=None\n",
    "\n",
    "    #ran=run.Run()\n",
    "    for _ in range(1):\n",
    "\n",
    "        #set agent parameters\n",
    "        KB.asserta(f\"health_threshold({RISK_THRESHOLD})\")\n",
    "        KB.asserta(f\"money_threshold({MONEY_THRESHOLD})\")\n",
    "        KB.asserta(f\"money({starting_money})\")\n",
    "        KB.retractall('onPlan(_)')\n",
    "        KB.retractall('battle_begin')\n",
    "        #des_file=ran.getdes()\n",
    "        #room_type=ran.gettype()\n",
    "        \n",
    "        env = gym.make(\"MiniHack-Skill-Custom-v0\",\n",
    "                        character=\"Agent-cav-hum-neu-mal\",\n",
    "                        observation_keys=('screen_descriptions','inv_strs','blstats','message','pixel','chars','inv_oclasses','glyphs'),\n",
    "                        wizard = True,\n",
    "                        max_episode_steps = MAX_STEPS ,\n",
    "                        options =(\n",
    "                            \"color\",  # Display color for different monsters, objects, etc\n",
    "                            \"showexp\",  # Display the experience points on the status line\n",
    "                            \"nobones\",  # Disallow saving and loading bones files\n",
    "                            \"nolegacy\",  # Not display an introductory message when starting the game\n",
    "                            \"nocmdassist\",  # No command assistance\n",
    "                            \"disclose:+i +a +v +g +c +o\",  # End of game prompt replies\n",
    "                            \"runmode:teleport\",  # Update the map after movement has finished\n",
    "                            \"mention_walls\",  # Give feedback when walking against a wall\n",
    "                            \"nosparkle\",  # Not display sparkly effect for resisted magical attacks\n",
    "                            \"showscore\",  # Shows approximate accumulated score on the bottom line\n",
    "                            \"race:dwa\",\"gender:mal\",\"align:neu\",\"role:cav\",\n",
    "                            \"!autopickup\",\n",
    "                            \"pettype:none\",\n",
    "                        ),\n",
    "                        des_file=des_file,\n",
    "                )\n",
    "        obs=env.reset(wizkit_items = starting_items + ['20 scroll of fire','6 potion of confusion','unicorn horn'])\n",
    "# elabora in base alle osservazioni presenti\n",
    "        \n",
    "\n",
    "\n",
    "        #env.render()\n",
    "        #print(des_file)\n",
    "        # count the number of steps of the current episode\n",
    "        steps = 0\n",
    "        # store the cumulative reward\n",
    "        reward = 0.0\n",
    "        # collect obs['pixel'] to visualize\n",
    "        ep_states = []\n",
    "        #agent starts in the shop\n",
    "        in_battle = False\n",
    "        #agent start with no plan for battle\n",
    "        planned_actions = False\n",
    "    \n",
    "\n",
    "        #process level information\n",
    "        if any(map(lambda x:x==room_type,['mazeroom','minibossroom'])):\n",
    "            KB.asserta(\"corridors\")\n",
    "        monsters=extract_monsters(des_file)\n",
    "        goal_x,goal_y=-1,-1\n",
    "        level_heigth=len(obs['screen_descriptions'])\n",
    "        level_width=len(obs['screen_descriptions'][0])\n",
    "        for i in range(level_heigth):\n",
    "            for j in range(level_width):\n",
    "                objs = bytes(obs['screen_descriptions'][i][j]).decode('utf-8').rstrip('\\x00')\n",
    "                if 'closed door' in objs and i > goal_x:\n",
    "                    goal_x,goal_y=i,j\n",
    "        KB.asserta(f'battlefield_start({goal_x},{goal_y})')\n",
    "\n",
    "        #print(f'battlefield_start({goal_x},{goal_y})')\n",
    "            \n",
    "        ep_states.append(obs['pixel'])\n",
    "        done = False\n",
    "\n",
    "        #set health to starting health (max 16)\n",
    "        obs, reward, done, info= set_health(env,obs,min(starting_health,18))\n",
    "        #display_inventory(obs['inv_strs'])\n",
    "\n",
    "        \n",
    "\n",
    "        #---- obtain information about gold and stairs down of the level ------#\n",
    "        game_map = obs['chars']\n",
    "        game = obs['pixel']\n",
    "\n",
    "        #retrieve map informations\n",
    "        amulet_des=get_reference_des(des_file)\n",
    "        amulet_map = get_target_location(game_map,symbol='\"')\n",
    "                \n",
    "        stair_des_pos = get_stair_location(des_file)\n",
    "\n",
    "        #when looking at des to get information, the position of the items in the real envirment is translated by a certain vector\n",
    "        delta_x, delta_y = (amulet_map[0]-amulet_des[0],amulet_map[1]-amulet_des[1])\n",
    "\n",
    "\n",
    "        gold_pos_list = get_money_location(des_file)\n",
    "\n",
    "        gold_pos_list = [(x+delta_x,y+delta_y)for (_,(x,y)) in gold_pos_list] #modify here if interested in gold amount on ground\n",
    "\n",
    "        #tell to KB gold positions\n",
    "        for (x,y) in gold_pos_list :\n",
    "            KB.asserta(f'position(gold,_,{x},{y})')\n",
    "        \n",
    "        #tell to KB stairs down location\n",
    "        target = (stair_des_pos[0]+delta_x,stair_des_pos[1]+delta_y)\n",
    "        KB.asserta(f'position(stairs,_,{target[0]},{target[1]})')\n",
    "\n",
    "        #------ end level processing ------------#\n",
    "\n",
    "        #---- initialize metric to measure ------#\n",
    "        metric=dict()\n",
    "        metric[\"steps\"]=0\n",
    "        metric[\"damage\"]=0\n",
    "        metric[\"money_gain\"]=0\n",
    "        metric[\"money_loss\"]=0\n",
    "        metric[\"healing_count\"]=0\n",
    "        # Main loop\n",
    "        while not done and steps < MAX_STEPS:\n",
    "\n",
    "            process_state(obs, KB)\n",
    "\n",
    "            #check if process state has seen that we are in the position to start battle\n",
    "            if (not in_battle) and len(list(KB.query('battle_begin'))) > 0 : #if yes switch to battle mode\n",
    "            \n",
    "                in_battle = True\n",
    "                #retrieve money amount\n",
    "                \n",
    "\n",
    "            #only done to identify monster position on \n",
    "            if not in_battle :\n",
    "                for monster_name,pos_x,pos_y in monsters:\n",
    "                    KB.asserta(f\"position(enemy,\\'{monster_name}\\',{pos_x},{pos_y})\")\n",
    "            try:\n",
    "                #print(list(KB.query(\"position(Obj,Name,R,C)\")))\n",
    "                actions=list(KB.query('action(X)'))\n",
    "                action = actions[0]\n",
    "                action = action['X']\n",
    "            except Exception as e:\n",
    "                env.render()\n",
    "                raise e                \n",
    "                #print(\"no action available\")\n",
    "                #print(list(KB.query(\"position(object,Type,R,C)\")))\n",
    "                print(e)\n",
    "                action = None\n",
    "            # Perform the action in the environment\n",
    "            #print(f'ACTION:\\t {action}')\n",
    "\n",
    "            if action:\n",
    "                # gathering info for metric measurement\n",
    "                agent_r=obs['blstats'][1]\n",
    "                agent_c=obs['blstats'][0]\n",
    "                agent_health=int(obs['blstats'][10])\n",
    "                agent_money= int(list(KB.query(\"money(M)\"))[0][\"M\"])\n",
    "\n",
    "                obs, reward, done, info ,planned_actions = perform_action(action, env,KB,planned_actions,obs)\n",
    "                \n",
    "                #compare old state with the new one for metric measurments\n",
    "                agent_new_money=int(list(KB.query(\"money(M)\"))[0][\"M\"])\n",
    "                agent_new_health= int(obs['blstats'][10])\n",
    "                if not done :\n",
    "                    if agent_r - obs['blstats'][1] != 0 or agent_c - obs['blstats'][0] != 0:\n",
    "                        metric[\"steps\"]+=1\n",
    "                    if agent_health > agent_new_health:\n",
    "                        metric[\"damage\"]+=agent_health - agent_new_health\n",
    "                    elif 'quaff' in action or 'eat' in action :\n",
    "                        metric[\"healing_count\"]+=1\n",
    "                    if agent_new_money > agent_money:\n",
    "                        metric[\"money_gain\"]+= agent_new_money - agent_money\n",
    "                    elif agent_new_money < agent_money:\n",
    "                        metric[\"money_loss\"]+= agent_money - agent_new_money\n",
    "                \n",
    "                ep_states.append(obs['pixel'])\n",
    "                if debug: env.render()\n",
    "                #env.render()\n",
    "            else:\n",
    "                break\n",
    "            steps += 1\n",
    "\n",
    "            is_dead, final_obs, final_reward, final_done, final_info = check_death(env,obs)\n",
    "            if is_dead :\n",
    "                obs = final_obs\n",
    "                reward = final_reward\n",
    "                done = final_done\n",
    "                info = final_info\n",
    "\n",
    "        if steps == MAX_STEPS:\n",
    "            print(\"reached maximum amount of steps\")\n",
    "        if debug: env.render()\n",
    "        # Display game with interface\n",
    "        #show_match(ep_states)\n",
    "        rewards.append(reward)\n",
    "        \n",
    "        # reset the environment and retract axioms that may cause errors\n",
    "        #print(list(KB.query('battle_begin')))\n",
    "        #print(list(KB.query('position(stairs,_,X,Y)')))\n",
    "        metric[\"health\"]= int(obs['blstats'][10])\n",
    "        metric[\"total_money\"]= int(list(KB.query(\"money(M)\"))[0][\"M\"])\n",
    "\n",
    "        obs = env.reset(wizkit_items = ['healing potion','20 scroll of fire','6 potion of confusion','unicorn horn'])\n",
    "        KB.retractall('stepping_on(agent,_,_)')\n",
    "        KB.retractall('position(_,_,_,_)')\n",
    "        KB.retractall('shopping_done')\n",
    "        KB.retractall('corridors')\n",
    "        KB.retractall('battle_begin')\n",
    "        KB.retractall('battlefield_start(_,_)')\n",
    "        KB.retractall('money(_)')\n",
    "        #ran.nextlevel()\n",
    "\n",
    "    #print(f'After {NUM_EPISODES} episodes, mean return is {sum(rewards)/NUM_EPISODES}')\n",
    "    #print(\"The rewards of the episodes are:\", rewards)\n",
    "    return metric, info"
   ]
  },
  {
   "cell_type": "code",
   "execution_count": 5,
   "metadata": {},
   "outputs": [
    {
     "name": "stdout",
     "output_type": "stream",
     "text": [
      "\tLEVEL:1\tSIMULATION:3\n"
     ]
    },
    {
     "name": "stderr",
     "output_type": "stream",
     "text": [
      "Warning: NetHack asked for env variable USER\n",
      "Warning: NetHack asked for env variable SPCODER_MAX_RUNTIME\n",
      "Warning: NetHack asked for env variable USER\n",
      "Warning: NetHack asked for env variable SPCODER_MAX_RUNTIME\n",
      "Warning: NetHack asked for env variable USER\n",
      "Warning: NetHack asked for env variable SPCODER_MAX_RUNTIME\n"
     ]
    },
    {
     "name": "stdout",
     "output_type": "stream",
     "text": [
      "{'steps': 57, 'damage': 6, 'money_gain': 20, 'money_loss': 0, 'healing_count': 0, 'health': 15, 'total_money': 60} {'end_status': <StepStatus.TASK_SUCCESSFUL: 2>, 'is_ascended': False}\n",
      "\tLEVEL:2\tSIMULATION:3\n"
     ]
    },
    {
     "name": "stderr",
     "output_type": "stream",
     "text": [
      "Warning: NetHack asked for env variable USER\n",
      "Warning: NetHack asked for env variable SPCODER_MAX_RUNTIME\n",
      "Warning: NetHack asked for env variable USER\n",
      "Warning: NetHack asked for env variable SPCODER_MAX_RUNTIME\n"
     ]
    },
    {
     "name": "stdout",
     "output_type": "stream",
     "text": [
      "{'steps': 33, 'damage': 18, 'money_gain': 0, 'money_loss': 10, 'healing_count': 0, 'health': 0, 'total_money': 50} {'end_status': <StepStatus.DEATH: 1>, 'is_ascended': False}\n",
      "\tLEVEL:1\tSIMULATION:4\n"
     ]
    },
    {
     "name": "stderr",
     "output_type": "stream",
     "text": [
      "Warning: NetHack asked for env variable USER\n",
      "Warning: NetHack asked for env variable SPCODER_MAX_RUNTIME\n",
      "Warning: NetHack asked for env variable USER\n",
      "Warning: NetHack asked for env variable SPCODER_MAX_RUNTIME\n"
     ]
    },
    {
     "name": "stdout",
     "output_type": "stream",
     "text": [
      "{'steps': 57, 'damage': 2, 'money_gain': 20, 'money_loss': 0, 'healing_count': 0, 'health': 18, 'total_money': 60} {'end_status': <StepStatus.TASK_SUCCESSFUL: 2>, 'is_ascended': False}\n",
      "\tLEVEL:2\tSIMULATION:4\n"
     ]
    },
    {
     "name": "stderr",
     "output_type": "stream",
     "text": [
      "Warning: NetHack asked for env variable USER\n",
      "Warning: NetHack asked for env variable SPCODER_MAX_RUNTIME\n",
      "Warning: NetHack asked for env variable USER\n",
      "Warning: NetHack asked for env variable SPCODER_MAX_RUNTIME\n"
     ]
    },
    {
     "name": "stdout",
     "output_type": "stream",
     "text": [
      "{'steps': 32, 'damage': 18, 'money_gain': 0, 'money_loss': 10, 'healing_count': 0, 'health': 0, 'total_money': 50} {'end_status': <StepStatus.DEATH: 1>, 'is_ascended': False}\n",
      "\tLEVEL:1\tSIMULATION:5\n"
     ]
    },
    {
     "name": "stderr",
     "output_type": "stream",
     "text": [
      "Warning: NetHack asked for env variable USER\n",
      "Warning: NetHack asked for env variable SPCODER_MAX_RUNTIME\n",
      "Warning: NetHack asked for env variable USER\n",
      "Warning: NetHack asked for env variable SPCODER_MAX_RUNTIME\n"
     ]
    },
    {
     "name": "stdout",
     "output_type": "stream",
     "text": [
      "{'steps': 59, 'damage': 3, 'money_gain': 10, 'money_loss': 10, 'healing_count': 0, 'health': 16, 'total_money': 40} {'end_status': <StepStatus.TASK_SUCCESSFUL: 2>, 'is_ascended': False}\n",
      "\tLEVEL:2\tSIMULATION:5\n"
     ]
    },
    {
     "name": "stderr",
     "output_type": "stream",
     "text": [
      "Warning: NetHack asked for env variable USER\n",
      "Warning: NetHack asked for env variable SPCODER_MAX_RUNTIME\n",
      "Warning: NetHack asked for env variable USER\n",
      "Warning: NetHack asked for env variable SPCODER_MAX_RUNTIME\n"
     ]
    },
    {
     "name": "stdout",
     "output_type": "stream",
     "text": [
      "{'steps': 42, 'damage': 19, 'money_gain': 10, 'money_loss': 10, 'healing_count': 0, 'health': 0, 'total_money': 40} {'end_status': <StepStatus.DEATH: 1>, 'is_ascended': False}\n",
      "\tLEVEL:1\tSIMULATION:6\n"
     ]
    },
    {
     "name": "stderr",
     "output_type": "stream",
     "text": [
      "Warning: NetHack asked for env variable USER\n",
      "Warning: NetHack asked for env variable SPCODER_MAX_RUNTIME\n",
      "Warning: NetHack asked for env variable USER\n",
      "Warning: NetHack asked for env variable SPCODER_MAX_RUNTIME\n"
     ]
    },
    {
     "name": "stdout",
     "output_type": "stream",
     "text": [
      "{'steps': 55, 'damage': 5, 'money_gain': 20, 'money_loss': 10, 'healing_count': 0, 'health': 15, 'total_money': 50} {'end_status': <StepStatus.TASK_SUCCESSFUL: 2>, 'is_ascended': False}\n",
      "\tLEVEL:2\tSIMULATION:6\n"
     ]
    },
    {
     "name": "stderr",
     "output_type": "stream",
     "text": [
      "Warning: NetHack asked for env variable USER\n",
      "Warning: NetHack asked for env variable SPCODER_MAX_RUNTIME\n",
      "Warning: NetHack asked for env variable USER\n",
      "Warning: NetHack asked for env variable SPCODER_MAX_RUNTIME\n"
     ]
    },
    {
     "name": "stdout",
     "output_type": "stream",
     "text": [
      "{'steps': 40, 'damage': 19, 'money_gain': 0, 'money_loss': 10, 'healing_count': 0, 'health': 0, 'total_money': 40} {'end_status': <StepStatus.DEATH: 1>, 'is_ascended': False}\n",
      "\tLEVEL:1\tSIMULATION:7\n"
     ]
    },
    {
     "name": "stderr",
     "output_type": "stream",
     "text": [
      "Warning: NetHack asked for env variable USER\n",
      "Warning: NetHack asked for env variable SPCODER_MAX_RUNTIME\n",
      "Warning: NetHack asked for env variable USER\n",
      "Warning: NetHack asked for env variable SPCODER_MAX_RUNTIME\n"
     ]
    },
    {
     "name": "stdout",
     "output_type": "stream",
     "text": [
      "{'steps': 37, 'damage': 19, 'money_gain': 0, 'money_loss': 10, 'healing_count': 0, 'health': 0, 'total_money': 30} {'end_status': <StepStatus.DEATH: 1>, 'is_ascended': False}\n",
      "\tLEVEL:1\tSIMULATION:8\n"
     ]
    },
    {
     "name": "stderr",
     "output_type": "stream",
     "text": [
      "Warning: NetHack asked for env variable USER\n",
      "Warning: NetHack asked for env variable SPCODER_MAX_RUNTIME\n",
      "Warning: NetHack asked for env variable USER\n",
      "Warning: NetHack asked for env variable SPCODER_MAX_RUNTIME\n"
     ]
    },
    {
     "name": "stdout",
     "output_type": "stream",
     "text": [
      "{'steps': 32, 'damage': 18, 'money_gain': 0, 'money_loss': 10, 'healing_count': 0, 'health': 0, 'total_money': 30} {'end_status': <StepStatus.DEATH: 1>, 'is_ascended': False}\n",
      "\tLEVEL:1\tSIMULATION:9\n"
     ]
    },
    {
     "name": "stderr",
     "output_type": "stream",
     "text": [
      "Warning: NetHack asked for env variable USER\n",
      "Warning: NetHack asked for env variable SPCODER_MAX_RUNTIME\n",
      "Warning: NetHack asked for env variable USER\n",
      "Warning: NetHack asked for env variable SPCODER_MAX_RUNTIME\n"
     ]
    },
    {
     "name": "stdout",
     "output_type": "stream",
     "text": [
      "{'steps': 50, 'damage': 2, 'money_gain': 20, 'money_loss': 0, 'healing_count': 0, 'health': 17, 'total_money': 60} {'end_status': <StepStatus.TASK_SUCCESSFUL: 2>, 'is_ascended': False}\n",
      "\tLEVEL:2\tSIMULATION:9\n"
     ]
    },
    {
     "name": "stderr",
     "output_type": "stream",
     "text": [
      "Warning: NetHack asked for env variable USER\n",
      "Warning: NetHack asked for env variable SPCODER_MAX_RUNTIME\n",
      "Warning: NetHack asked for env variable USER\n",
      "Warning: NetHack asked for env variable SPCODER_MAX_RUNTIME\n"
     ]
    },
    {
     "name": "stdout",
     "output_type": "stream",
     "text": [
      "{'steps': 40, 'damage': 18, 'money_gain': 0, 'money_loss': 10, 'healing_count': 0, 'health': 0, 'total_money': 50} {'end_status': <StepStatus.DEATH: 1>, 'is_ascended': False}\n",
      "\tLEVEL:1\tSIMULATION:10\n"
     ]
    },
    {
     "name": "stderr",
     "output_type": "stream",
     "text": [
      "Warning: NetHack asked for env variable USER\n",
      "Warning: NetHack asked for env variable SPCODER_MAX_RUNTIME\n",
      "Warning: NetHack asked for env variable USER\n",
      "Warning: NetHack asked for env variable SPCODER_MAX_RUNTIME\n"
     ]
    },
    {
     "name": "stdout",
     "output_type": "stream",
     "text": [
      "{'steps': 35, 'damage': 18, 'money_gain': 0, 'money_loss': 10, 'healing_count': 0, 'health': 0, 'total_money': 30} {'end_status': <StepStatus.DEATH: 1>, 'is_ascended': False}\n",
      "\tLEVEL:1\tSIMULATION:11\n"
     ]
    },
    {
     "name": "stderr",
     "output_type": "stream",
     "text": [
      "Warning: NetHack asked for env variable USER\n",
      "Warning: NetHack asked for env variable SPCODER_MAX_RUNTIME\n",
      "Warning: NetHack asked for env variable USER\n",
      "Warning: NetHack asked for env variable SPCODER_MAX_RUNTIME\n"
     ]
    },
    {
     "name": "stdout",
     "output_type": "stream",
     "text": [
      "{'steps': 56, 'damage': 14, 'money_gain': 20, 'money_loss': 10, 'healing_count': 0, 'health': 6, 'total_money': 50} {'end_status': <StepStatus.TASK_SUCCESSFUL: 2>, 'is_ascended': False}\n",
      "\tLEVEL:2\tSIMULATION:11\n"
     ]
    },
    {
     "name": "stderr",
     "output_type": "stream",
     "text": [
      "Warning: NetHack asked for env variable USER\n",
      "Warning: NetHack asked for env variable SPCODER_MAX_RUNTIME\n",
      "Warning: NetHack asked for env variable USER\n",
      "Warning: NetHack asked for env variable SPCODER_MAX_RUNTIME\n"
     ]
    },
    {
     "name": "stdout",
     "output_type": "stream",
     "text": [
      "{'steps': 34, 'damage': 0, 'money_gain': 0, 'money_loss': 11, 'healing_count': 1, 'health': 18, 'total_money': 39} {'end_status': <StepStatus.ABORTED: -1>, 'is_ascended': False}\n",
      "\tLEVEL:3\tSIMULATION:11\n"
     ]
    },
    {
     "name": "stderr",
     "output_type": "stream",
     "text": [
      "Warning: NetHack asked for env variable USER\n",
      "Warning: NetHack asked for env variable SPCODER_MAX_RUNTIME\n",
      "Warning: NetHack asked for env variable USER\n",
      "Warning: NetHack asked for env variable SPCODER_MAX_RUNTIME\n"
     ]
    },
    {
     "name": "stdout",
     "output_type": "stream",
     "text": [
      "{'steps': 64, 'damage': 18, 'money_gain': 0, 'money_loss': 0, 'healing_count': 0, 'health': 0, 'total_money': 39} {'end_status': <StepStatus.DEATH: 1>, 'is_ascended': False}\n",
      "\tLEVEL:1\tSIMULATION:12\n"
     ]
    },
    {
     "name": "stderr",
     "output_type": "stream",
     "text": [
      "Warning: NetHack asked for env variable USER\n",
      "Warning: NetHack asked for env variable SPCODER_MAX_RUNTIME\n",
      "Warning: NetHack asked for env variable USER\n",
      "Warning: NetHack asked for env variable SPCODER_MAX_RUNTIME\n"
     ]
    },
    {
     "name": "stdout",
     "output_type": "stream",
     "text": [
      "{'steps': 52, 'damage': 2, 'money_gain': 20, 'money_loss': 10, 'healing_count': 0, 'health': 18, 'total_money': 50} {'end_status': <StepStatus.TASK_SUCCESSFUL: 2>, 'is_ascended': False}\n",
      "\tLEVEL:2\tSIMULATION:12\n"
     ]
    },
    {
     "name": "stderr",
     "output_type": "stream",
     "text": [
      "Warning: NetHack asked for env variable USER\n",
      "Warning: NetHack asked for env variable SPCODER_MAX_RUNTIME\n",
      "Warning: NetHack asked for env variable USER\n",
      "Warning: NetHack asked for env variable SPCODER_MAX_RUNTIME\n"
     ]
    },
    {
     "name": "stdout",
     "output_type": "stream",
     "text": [
      "{'steps': 32, 'damage': 18, 'money_gain': 0, 'money_loss': 10, 'healing_count': 0, 'health': 0, 'total_money': 40} {'end_status': <StepStatus.DEATH: 1>, 'is_ascended': False}\n",
      "\tLEVEL:1\tSIMULATION:13\n"
     ]
    },
    {
     "name": "stderr",
     "output_type": "stream",
     "text": [
      "Warning: NetHack asked for env variable USER\n",
      "Warning: NetHack asked for env variable SPCODER_MAX_RUNTIME\n",
      "Warning: NetHack asked for env variable USER\n",
      "Warning: NetHack asked for env variable SPCODER_MAX_RUNTIME\n"
     ]
    },
    {
     "name": "stdout",
     "output_type": "stream",
     "text": [
      "{'steps': 50, 'damage': 5, 'money_gain': 20, 'money_loss': 10, 'healing_count': 0, 'health': 15, 'total_money': 50} {'end_status': <StepStatus.TASK_SUCCESSFUL: 2>, 'is_ascended': False}\n",
      "\tLEVEL:2\tSIMULATION:13\n"
     ]
    },
    {
     "name": "stderr",
     "output_type": "stream",
     "text": [
      "Warning: NetHack asked for env variable USER\n",
      "Warning: NetHack asked for env variable SPCODER_MAX_RUNTIME\n",
      "Warning: NetHack asked for env variable USER\n",
      "Warning: NetHack asked for env variable SPCODER_MAX_RUNTIME\n"
     ]
    },
    {
     "name": "stdout",
     "output_type": "stream",
     "text": [
      "{'steps': 66, 'damage': 0, 'money_gain': 0, 'money_loss': 10, 'healing_count': 0, 'health': 18, 'total_money': 40} {'end_status': <StepStatus.ABORTED: -1>, 'is_ascended': False}\n",
      "\tLEVEL:3\tSIMULATION:13\n"
     ]
    },
    {
     "name": "stderr",
     "output_type": "stream",
     "text": [
      "Warning: NetHack asked for env variable USER\n",
      "Warning: NetHack asked for env variable SPCODER_MAX_RUNTIME\n",
      "Warning: NetHack asked for env variable USER\n",
      "Warning: NetHack asked for env variable SPCODER_MAX_RUNTIME\n"
     ]
    },
    {
     "name": "stdout",
     "output_type": "stream",
     "text": [
      "{'steps': 40, 'damage': 18, 'money_gain': 0, 'money_loss': 10, 'healing_count': 0, 'health': 0, 'total_money': 30} {'end_status': <StepStatus.DEATH: 1>, 'is_ascended': False}\n",
      "\tLEVEL:1\tSIMULATION:14\n"
     ]
    },
    {
     "name": "stderr",
     "output_type": "stream",
     "text": [
      "Warning: NetHack asked for env variable USER\n",
      "Warning: NetHack asked for env variable SPCODER_MAX_RUNTIME\n",
      "Warning: NetHack asked for env variable USER\n",
      "Warning: NetHack asked for env variable SPCODER_MAX_RUNTIME\n"
     ]
    },
    {
     "name": "stdout",
     "output_type": "stream",
     "text": [
      "{'steps': 54, 'damage': 15, 'money_gain': 20, 'money_loss': 10, 'healing_count': 0, 'health': 5, 'total_money': 50} {'end_status': <StepStatus.TASK_SUCCESSFUL: 2>, 'is_ascended': False}\n",
      "\tLEVEL:2\tSIMULATION:14\n"
     ]
    },
    {
     "name": "stderr",
     "output_type": "stream",
     "text": [
      "Warning: NetHack asked for env variable USER\n",
      "Warning: NetHack asked for env variable SPCODER_MAX_RUNTIME\n",
      "Warning: NetHack asked for env variable USER\n",
      "Warning: NetHack asked for env variable SPCODER_MAX_RUNTIME\n"
     ]
    },
    {
     "name": "stdout",
     "output_type": "stream",
     "text": [
      "{'steps': 35, 'damage': 12, 'money_gain': 5, 'money_loss': 11, 'healing_count': 1, 'health': 4, 'total_money': 44} {'end_status': <StepStatus.ABORTED: -1>, 'is_ascended': False}\n",
      "\tLEVEL:3\tSIMULATION:14\n"
     ]
    },
    {
     "name": "stderr",
     "output_type": "stream",
     "text": [
      "Warning: NetHack asked for env variable USER\n",
      "Warning: NetHack asked for env variable SPCODER_MAX_RUNTIME\n",
      "Warning: NetHack asked for env variable USER\n",
      "Warning: NetHack asked for env variable SPCODER_MAX_RUNTIME\n"
     ]
    },
    {
     "name": "stdout",
     "output_type": "stream",
     "text": [
      "{'steps': 36, 'damage': 19, 'money_gain': 0, 'money_loss': 11, 'healing_count': 1, 'health': 0, 'total_money': 33} {'end_status': <StepStatus.DEATH: 1>, 'is_ascended': False}\n",
      "\tLEVEL:1\tSIMULATION:15\n"
     ]
    },
    {
     "name": "stderr",
     "output_type": "stream",
     "text": [
      "Warning: NetHack asked for env variable USER\n",
      "Warning: NetHack asked for env variable SPCODER_MAX_RUNTIME\n",
      "Warning: NetHack asked for env variable USER\n",
      "Warning: NetHack asked for env variable SPCODER_MAX_RUNTIME\n"
     ]
    },
    {
     "name": "stdout",
     "output_type": "stream",
     "text": [
      "{'steps': 54, 'damage': 6, 'money_gain': 20, 'money_loss': 10, 'healing_count': 0, 'health': 13, 'total_money': 50} {'end_status': <StepStatus.TASK_SUCCESSFUL: 2>, 'is_ascended': False}\n",
      "\tLEVEL:2\tSIMULATION:15\n"
     ]
    },
    {
     "name": "stderr",
     "output_type": "stream",
     "text": [
      "Warning: NetHack asked for env variable USER\n",
      "Warning: NetHack asked for env variable SPCODER_MAX_RUNTIME\n",
      "Warning: NetHack asked for env variable USER\n",
      "Warning: NetHack asked for env variable SPCODER_MAX_RUNTIME\n"
     ]
    },
    {
     "name": "stdout",
     "output_type": "stream",
     "text": [
      "{'steps': 50, 'damage': 7, 'money_gain': 5, 'money_loss': 10, 'healing_count': 0, 'health': 10, 'total_money': 50} {'end_status': <StepStatus.ABORTED: -1>, 'is_ascended': False}\n",
      "\tLEVEL:3\tSIMULATION:15\n"
     ]
    },
    {
     "name": "stderr",
     "output_type": "stream",
     "text": [
      "Warning: NetHack asked for env variable USER\n",
      "Warning: NetHack asked for env variable SPCODER_MAX_RUNTIME\n",
      "Warning: NetHack asked for env variable USER\n",
      "Warning: NetHack asked for env variable SPCODER_MAX_RUNTIME\n"
     ]
    },
    {
     "name": "stdout",
     "output_type": "stream",
     "text": [
      "{'steps': 33, 'damage': 13, 'money_gain': 0, 'money_loss': 10, 'healing_count': 0, 'health': 0, 'total_money': 40} {'end_status': <StepStatus.DEATH: 1>, 'is_ascended': False}\n",
      "\tLEVEL:1\tSIMULATION:16\n"
     ]
    },
    {
     "name": "stderr",
     "output_type": "stream",
     "text": [
      "Warning: NetHack asked for env variable USER\n",
      "Warning: NetHack asked for env variable SPCODER_MAX_RUNTIME\n",
      "Warning: NetHack asked for env variable USER\n",
      "Warning: NetHack asked for env variable SPCODER_MAX_RUNTIME\n"
     ]
    },
    {
     "name": "stdout",
     "output_type": "stream",
     "text": [
      "{'steps': 54, 'damage': 6, 'money_gain': 20, 'money_loss': 0, 'healing_count': 0, 'health': 14, 'total_money': 60} {'end_status': <StepStatus.TASK_SUCCESSFUL: 2>, 'is_ascended': False}\n",
      "\tLEVEL:2\tSIMULATION:16\n"
     ]
    },
    {
     "name": "stderr",
     "output_type": "stream",
     "text": [
      "Warning: NetHack asked for env variable USER\n",
      "Warning: NetHack asked for env variable SPCODER_MAX_RUNTIME\n",
      "Warning: NetHack asked for env variable USER\n",
      "Warning: NetHack asked for env variable SPCODER_MAX_RUNTIME\n"
     ]
    },
    {
     "name": "stdout",
     "output_type": "stream",
     "text": [
      "{'steps': 47, 'damage': 19, 'money_gain': 0, 'money_loss': 10, 'healing_count': 0, 'health': 0, 'total_money': 50} {'end_status': <StepStatus.DEATH: 1>, 'is_ascended': False}\n",
      "\tLEVEL:1\tSIMULATION:17\n"
     ]
    },
    {
     "name": "stderr",
     "output_type": "stream",
     "text": [
      "Warning: NetHack asked for env variable USER\n",
      "Warning: NetHack asked for env variable SPCODER_MAX_RUNTIME\n",
      "Warning: NetHack asked for env variable USER\n",
      "Warning: NetHack asked for env variable SPCODER_MAX_RUNTIME\n"
     ]
    },
    {
     "name": "stdout",
     "output_type": "stream",
     "text": [
      "{'steps': 55, 'damage': 15, 'money_gain': 20, 'money_loss': 10, 'healing_count': 0, 'health': 5, 'total_money': 50} {'end_status': <StepStatus.TASK_SUCCESSFUL: 2>, 'is_ascended': False}\n",
      "\tLEVEL:2\tSIMULATION:17\n"
     ]
    },
    {
     "name": "stderr",
     "output_type": "stream",
     "text": [
      "Warning: NetHack asked for env variable USER\n",
      "Warning: NetHack asked for env variable SPCODER_MAX_RUNTIME\n",
      "Warning: NetHack asked for env variable USER\n",
      "Warning: NetHack asked for env variable SPCODER_MAX_RUNTIME\n"
     ]
    },
    {
     "name": "stdout",
     "output_type": "stream",
     "text": [
      "{'steps': 38, 'damage': 6, 'money_gain': 0, 'money_loss': 11, 'healing_count': 1, 'health': 8, 'total_money': 39} {'end_status': <StepStatus.ABORTED: -1>, 'is_ascended': False}\n",
      "\tLEVEL:3\tSIMULATION:17\n",
      "{'steps': 49, 'damage': 0, 'money_gain': 10, 'money_loss': 11, 'healing_count': 1, 'health': 19, 'total_money': 38} {'end_status': <StepStatus.ABORTED: -1>, 'is_ascended': False}\n",
      "\tLEVEL:4\tSIMULATION:17\n"
     ]
    },
    {
     "name": "stderr",
     "output_type": "stream",
     "text": [
      "Warning: NetHack asked for env variable USER\n",
      "Warning: NetHack asked for env variable SPCODER_MAX_RUNTIME\n",
      "Warning: NetHack asked for env variable USER\n",
      "Warning: NetHack asked for env variable SPCODER_MAX_RUNTIME\n"
     ]
    },
    {
     "ename": "Exception",
     "evalue": "max_health or current health less than target",
     "output_type": "error",
     "traceback": [
      "\u001b[0;31m---------------------------------------------------------------------------\u001b[0m",
      "\u001b[0;31mException\u001b[0m                                 Traceback (most recent call last)",
      "Cell \u001b[0;32mIn[5], line 53\u001b[0m\n\u001b[1;32m     51\u001b[0m         simulations\u001b[38;5;241m.\u001b[39mappend(all_metrics)\n\u001b[1;32m     52\u001b[0m     \u001b[38;5;28;01mreturn\u001b[39;00m simulations\n\u001b[0;32m---> 53\u001b[0m simulations\u001b[38;5;241m=\u001b[39m\u001b[43msimulate_runs\u001b[49m\u001b[43m(\u001b[49m\u001b[38;5;241;43m30\u001b[39;49m\u001b[43m)\u001b[49m\n\u001b[1;32m     54\u001b[0m simulations\n",
      "Cell \u001b[0;32mIn[5], line 42\u001b[0m, in \u001b[0;36msimulate_runs\u001b[0;34m(n)\u001b[0m\n\u001b[1;32m     40\u001b[0m \u001b[38;5;28mprint\u001b[39m(\u001b[38;5;124mf\u001b[39m\u001b[38;5;124m'\u001b[39m\u001b[38;5;130;01m\\t\u001b[39;00m\u001b[38;5;124mLEVEL:\u001b[39m\u001b[38;5;132;01m{\u001b[39;00ml\u001b[38;5;241m+\u001b[39m\u001b[38;5;241m1\u001b[39m\u001b[38;5;132;01m}\u001b[39;00m\u001b[38;5;130;01m\\t\u001b[39;00m\u001b[38;5;124mSIMULATION:\u001b[39m\u001b[38;5;132;01m{\u001b[39;00mi\u001b[38;5;132;01m}\u001b[39;00m\u001b[38;5;124m'\u001b[39m)\n\u001b[1;32m     41\u001b[0m \u001b[38;5;66;03m#if i == 2: debug = True\u001b[39;00m\n\u001b[0;32m---> 42\u001b[0m metric, info \u001b[38;5;241m=\u001b[39m \u001b[43mvacuum_experiment\u001b[49m\u001b[43m(\u001b[49m\u001b[43mran\u001b[49m\u001b[38;5;241;43m.\u001b[39;49m\u001b[43mgetdes\u001b[49m\u001b[43m(\u001b[49m\u001b[43m)\u001b[49m\u001b[43m,\u001b[49m\u001b[43mran\u001b[49m\u001b[38;5;241;43m.\u001b[39;49m\u001b[43mgettype\u001b[49m\u001b[43m(\u001b[49m\u001b[43m)\u001b[49m\u001b[43m,\u001b[49m\u001b[43mmoney\u001b[49m\u001b[43m,\u001b[49m\u001b[43mstarting_health\u001b[49m\u001b[38;5;241;43m=\u001b[39;49m\u001b[43mhealth\u001b[49m\u001b[43m,\u001b[49m\u001b[43mstarting_items\u001b[49m\u001b[38;5;241;43m=\u001b[39;49m\u001b[43mitems\u001b[49m\u001b[43m,\u001b[49m\u001b[43m \u001b[49m\u001b[43mdebug\u001b[49m\u001b[38;5;241;43m=\u001b[39;49m\u001b[43m \u001b[49m\u001b[43mdebug\u001b[49m\u001b[43m)\u001b[49m\n\u001b[1;32m     43\u001b[0m \u001b[38;5;28mprint\u001b[39m(metric,info)\n\u001b[1;32m     44\u001b[0m all_metrics\u001b[38;5;241m.\u001b[39mappend(metric)\n",
      "Cell \u001b[0;32mIn[4], line 79\u001b[0m, in \u001b[0;36mvacuum_experiment\u001b[0;34m(des_file, room_type, starting_money, starting_health, starting_items, debug)\u001b[0m\n\u001b[1;32m     76\u001b[0m done \u001b[38;5;241m=\u001b[39m \u001b[38;5;28;01mFalse\u001b[39;00m\n\u001b[1;32m     78\u001b[0m \u001b[38;5;66;03m#set health to starting health (max 16)\u001b[39;00m\n\u001b[0;32m---> 79\u001b[0m obs, reward, done, info\u001b[38;5;241m=\u001b[39m \u001b[43mset_health\u001b[49m\u001b[43m(\u001b[49m\u001b[43menv\u001b[49m\u001b[43m,\u001b[49m\u001b[43mobs\u001b[49m\u001b[43m,\u001b[49m\u001b[43mstarting_health\u001b[49m\u001b[43m)\u001b[49m\n\u001b[1;32m     80\u001b[0m \u001b[38;5;66;03m#display_inventory(obs['inv_strs'])\u001b[39;00m\n\u001b[1;32m     81\u001b[0m \n\u001b[1;32m     82\u001b[0m \n\u001b[1;32m     83\u001b[0m \n\u001b[1;32m     84\u001b[0m \u001b[38;5;66;03m#---- obtain information about gold and stairs down of the level ------#\u001b[39;00m\n\u001b[1;32m     85\u001b[0m game_map \u001b[38;5;241m=\u001b[39m obs[\u001b[38;5;124m'\u001b[39m\u001b[38;5;124mchars\u001b[39m\u001b[38;5;124m'\u001b[39m]\n",
      "File \u001b[0;32m/mnt/c/UNI/AIF/AIFPROJ2023/SHOPHANDLER/utils.py:451\u001b[0m, in \u001b[0;36mset_health\u001b[0;34m(env, obs, target_health, max_health)\u001b[0m\n\u001b[1;32m    449\u001b[0m obs \u001b[38;5;241m=\u001b[39m make_confuse(env)\n\u001b[1;32m    450\u001b[0m \u001b[38;5;28;01mif\u001b[39;00m max_health \u001b[38;5;241m<\u001b[39m target_health \u001b[38;5;129;01mor\u001b[39;00m \u001b[38;5;28mint\u001b[39m(obs[\u001b[38;5;124m'\u001b[39m\u001b[38;5;124mblstats\u001b[39m\u001b[38;5;124m'\u001b[39m][\u001b[38;5;241m10\u001b[39m])  \u001b[38;5;241m<\u001b[39m target_health:\n\u001b[0;32m--> 451\u001b[0m     \u001b[38;5;28;01mraise\u001b[39;00m \u001b[38;5;167;01mException\u001b[39;00m(\u001b[38;5;124m\"\u001b[39m\u001b[38;5;124mmax_health or current health less than target\u001b[39m\u001b[38;5;124m\"\u001b[39m)\n\u001b[1;32m    452\u001b[0m \u001b[38;5;28;01mwhile\u001b[39;00m \u001b[38;5;28mint\u001b[39m(obs[\u001b[38;5;124m'\u001b[39m\u001b[38;5;124mblstats\u001b[39m\u001b[38;5;124m'\u001b[39m][\u001b[38;5;241m10\u001b[39m]) \u001b[38;5;241m>\u001b[39m target_health : \u001b[38;5;66;03m#current health grater than target\u001b[39;00m\n\u001b[1;32m    454\u001b[0m     obs,_,_,_ \u001b[38;5;241m=\u001b[39m env\u001b[38;5;241m.\u001b[39mstep(\u001b[38;5;241m54\u001b[39m)\n",
      "\u001b[0;31mException\u001b[0m: max_health or current health less than target"
     ]
    }
   ],
   "source": [
    "def plot_all_metrics(all_metrics,metrics):\n",
    "    metrics=all_metrics[0].keys()\n",
    "    fig,ax = plt.subplots(figsize=(10,5))\n",
    "    chart_metrics=dict()\n",
    "    for m in metrics:\n",
    "        chart_metrics[m]=tuple(map(lambda x:x[\"steps\"],all_metrics))\n",
    "\n",
    "    width= 0.05\n",
    "    group=0\n",
    "\n",
    "    x_pos= np.arange(len(all_metrics))\n",
    "\n",
    "    for metric,values in chart_metrics.items():\n",
    "        offset=group*width\n",
    "        rects= ax.bar(x_pos + offset, values, width, label=metric)\n",
    "        ax.bar_label(rects)\n",
    "        group+=1\n",
    "    ax.set_ylabel('')\n",
    "    ax.set_title('metrics values for all the values')\n",
    "    #ax.set_xticks(x_pos + width, tuple((f\"Level {i}\" for i in range(all_metrics))))\n",
    "    ax.legend(loc='upper left', ncols=len(all_metrics))\n",
    "    ax.set_ylim(0, 250)\n",
    "\n",
    "    plt.show()\n",
    "\n",
    "def simulate_runs(n):\n",
    "    simulations=[]\n",
    "    i = 3\n",
    "    for seed in range(n):\n",
    "        ran = run.Run(seed=seed)\n",
    "        global all_metrics\n",
    "        global info\n",
    "        all_metrics = []\n",
    "        all_info = []\n",
    "        money = MONEY\n",
    "        health = 18 \n",
    "        items=[]\n",
    "        debug = False\n",
    "        for l in range(5):\n",
    "            print(f'\\tLEVEL:{l+1}\\tSIMULATION:{i}')\n",
    "            #if i == 2: debug = True\n",
    "            try:\n",
    "                metric, info = vacuum_experiment(ran.getdes(),ran.gettype(),money,starting_health=health,starting_items=items, debug= debug)\n",
    "            except Exception as e:\n",
    "                raise e\n",
    "            all_metrics.append(metric)\n",
    "            all_info.append(info)\n",
    "            health = metric['health']\n",
    "            money = metric['total_money']\n",
    "            if health == 0 : break\n",
    "            ran.nextlevel()\n",
    "        i +=1\n",
    "        simulations.append(all_metrics)\n",
    "    return simulations\n",
    "simulations=simulate_runs(30)\n",
    "simulations\n"
   ]
  },
  {
   "cell_type": "code",
   "execution_count": 10,
   "metadata": {},
   "outputs": [
    {
     "name": "stdout",
     "output_type": "stream",
     "text": [
      "\n",
      "\u001b[0;37mH\u001b[0;37me\u001b[0;37ml\u001b[0;37ml\u001b[0;37mo\u001b[0;30m \u001b[0;37mw\u001b[0;37mi\u001b[0;37mz\u001b[0;37ma\u001b[0;37mr\u001b[0;37md\u001b[0;37m,\u001b[0;30m \u001b[0;37mw\u001b[0;37me\u001b[0;37ml\u001b[0;37mc\u001b[0;37mo\u001b[0;37mm\u001b[0;37me\u001b[0;30m \u001b[0;37mt\u001b[0;37mo\u001b[0;30m \u001b[0;37mN\u001b[0;37me\u001b[0;37mt\u001b[0;37mH\u001b[0;37ma\u001b[0;37mc\u001b[0;37mk\u001b[0;37m!\u001b[0;30m \u001b[0;30m \u001b[0;37mY\u001b[0;37mo\u001b[0;37mu\u001b[0;30m \u001b[0;37ma\u001b[0;37mr\u001b[0;37me\u001b[0;30m \u001b[0;37ma\u001b[0;30m \u001b[0;37ml\u001b[0;37ma\u001b[0;37mw\u001b[0;37mf\u001b[0;37mu\u001b[0;37ml\u001b[0;30m \u001b[0;37md\u001b[0;37mw\u001b[0;37ma\u001b[0;37mr\u001b[0;37mv\u001b[0;37me\u001b[0;37mn\u001b[0;30m \u001b[0;37mC\u001b[0;37ma\u001b[0;37mv\u001b[0;37me\u001b[0;37mm\u001b[0;37ma\u001b[0;37mn\u001b[0;37m.\u001b[0;30m \u001b[0;30m \u001b[0;30m \u001b[0;30m \u001b[0;30m \u001b[0;30m \u001b[0;30m \u001b[0;30m \u001b[0;30m \u001b[0;30m \u001b[0;30m \u001b[0;30m \n",
      "\u001b[0;30m \u001b[0;30m \u001b[0;30m \u001b[0;30m \u001b[0;30m \u001b[0;30m \u001b[0;30m \u001b[0;30m \u001b[0;30m \u001b[0;30m \u001b[0;30m \u001b[0;30m \u001b[0;30m \u001b[0;30m \u001b[0;30m \u001b[0;30m \u001b[0;30m \u001b[0;30m \u001b[0;30m \u001b[0;30m \u001b[0;30m \u001b[0;30m \u001b[0;30m \u001b[0;30m \u001b[0;30m \u001b[0;30m \u001b[0;30m \u001b[0;30m \u001b[0;30m \u001b[0;30m \u001b[0;30m \u001b[0;30m \u001b[0;30m \u001b[0;30m \u001b[0;30m \u001b[0;30m \u001b[0;30m \u001b[0;30m \u001b[0;30m \u001b[0;30m \u001b[0;30m \u001b[0;30m \u001b[0;30m \u001b[0;30m \u001b[0;30m \u001b[0;30m \u001b[0;30m \u001b[0;30m \u001b[0;30m \u001b[0;30m \u001b[0;30m \u001b[0;30m \u001b[0;30m \u001b[0;30m \u001b[0;30m \u001b[0;30m \u001b[0;30m \u001b[0;30m \u001b[0;30m \u001b[0;30m \u001b[0;30m \u001b[0;30m \u001b[0;30m \u001b[0;30m \u001b[0;30m \u001b[0;30m \u001b[0;30m \u001b[0;30m \u001b[0;30m \u001b[0;30m \u001b[0;30m \u001b[0;30m \u001b[0;30m \u001b[0;30m \u001b[0;30m \u001b[0;30m \u001b[0;30m \u001b[0;30m \u001b[0;30m \u001b[0;30m \n",
      "\u001b[0;30m \u001b[0;30m \u001b[0;30m \u001b[0;30m \u001b[0;30m \u001b[0;30m \u001b[0;30m \u001b[0;30m \u001b[0;30m \u001b[0;30m \u001b[0;30m \u001b[0;30m \u001b[0;30m \u001b[0;30m \u001b[0;30m \u001b[0;30m \u001b[0;30m \u001b[0;30m \u001b[0;30m \u001b[0;30m \u001b[0;30m \u001b[0;30m \u001b[0;30m \u001b[0;30m \u001b[0;30m \u001b[0;30m \u001b[0;30m \u001b[0;30m \u001b[0;30m \u001b[0;30m \u001b[0;30m \u001b[0;30m \u001b[0;30m \u001b[0;30m \u001b[0;30m \u001b[0;30m \u001b[0;30m \u001b[0;30m \u001b[0;30m \u001b[0;30m \u001b[0;30m \u001b[0;30m \u001b[0;30m \u001b[0;30m \u001b[0;30m \u001b[0;30m \u001b[0;30m \u001b[0;30m \u001b[0;30m \u001b[0;30m \u001b[0;30m \u001b[0;30m \u001b[0;30m \u001b[0;30m \u001b[0;30m \u001b[0;30m \u001b[0;30m \u001b[0;30m \u001b[0;30m \u001b[0;30m \u001b[0;30m \u001b[0;30m \u001b[0;30m \u001b[0;30m \u001b[0;30m \u001b[0;30m \u001b[0;30m \u001b[0;30m \u001b[0;30m \u001b[0;30m \u001b[0;30m \u001b[0;30m \u001b[0;30m \u001b[0;30m \u001b[0;30m \u001b[0;30m \u001b[0;30m \u001b[0;30m \u001b[0;30m \u001b[0;30m \n",
      "\u001b[0;30m \u001b[0;30m \u001b[0;30m \u001b[0;30m \u001b[0;30m \u001b[0;30m \u001b[0;30m \u001b[0;30m \u001b[0;30m \u001b[0;30m \u001b[0;30m \u001b[0;30m \u001b[0;30m \u001b[0;30m \u001b[0;30m \u001b[0;30m \u001b[0;30m \u001b[0;30m \u001b[0;30m \u001b[0;30m \u001b[0;30m \u001b[0;30m \u001b[0;30m \u001b[0;30m \u001b[0;30m \u001b[0;30m \u001b[0;30m \u001b[0;30m \u001b[0;30m \u001b[0;30m \u001b[0;30m \u001b[0;30m \u001b[0;30m \u001b[0;30m \u001b[0;30m \u001b[0;30m \u001b[0;30m \u001b[0;30m \u001b[0;30m \u001b[0;30m \u001b[0;30m \u001b[0;30m \u001b[0;30m \u001b[0;30m \u001b[0;30m \u001b[0;30m \u001b[0;30m \u001b[0;30m \u001b[0;30m \u001b[0;30m \u001b[0;30m \u001b[0;30m \u001b[0;30m \u001b[0;30m \u001b[0;30m \u001b[0;30m \u001b[0;30m \u001b[0;30m \u001b[0;30m \u001b[0;30m \u001b[0;30m \u001b[0;30m \u001b[0;30m \u001b[0;30m \u001b[0;30m \u001b[0;30m \u001b[0;30m \u001b[0;30m \u001b[0;30m \u001b[0;30m \u001b[0;30m \u001b[0;30m \u001b[0;30m \u001b[0;30m \u001b[0;30m \u001b[0;30m \u001b[0;30m \u001b[0;30m \u001b[0;30m \u001b[0;30m \n",
      "\u001b[0;30m \u001b[0;30m \u001b[0;30m \u001b[0;30m \u001b[0;30m \u001b[0;30m \u001b[0;30m \u001b[0;30m \u001b[0;30m \u001b[0;30m \u001b[0;30m \u001b[0;30m \u001b[0;30m \u001b[0;30m \u001b[0;30m \u001b[0;30m \u001b[0;30m \u001b[0;30m \u001b[0;30m \u001b[0;30m \u001b[0;30m \u001b[0;30m \u001b[0;30m \u001b[0;30m \u001b[0;30m \u001b[0;30m \u001b[0;30m \u001b[0;30m \u001b[0;30m \u001b[0;30m \u001b[0;30m \u001b[0;30m \u001b[0;30m \u001b[0;30m \u001b[0;30m \u001b[0;30m \u001b[0;30m \u001b[0;30m \u001b[0;30m \u001b[0;30m \u001b[0;30m \u001b[0;30m \u001b[0;30m \u001b[0;30m \u001b[0;30m \u001b[0;30m \u001b[0;30m \u001b[0;30m \u001b[0;30m \u001b[0;30m \u001b[0;30m \u001b[0;30m \u001b[0;30m \u001b[0;30m \u001b[0;30m \u001b[0;30m \u001b[0;30m \u001b[0;30m \u001b[0;30m \u001b[0;30m \u001b[0;30m \u001b[0;30m \u001b[0;30m \u001b[0;30m \u001b[0;30m \u001b[0;30m \u001b[0;30m \u001b[0;30m \u001b[0;30m \u001b[0;30m \u001b[0;30m \u001b[0;30m \u001b[0;30m \u001b[0;30m \u001b[0;30m \u001b[0;30m \u001b[0;30m \u001b[0;30m \u001b[0;30m \u001b[0;30m \n",
      "\u001b[0;30m \u001b[0;30m \u001b[0;30m \u001b[0;30m \u001b[0;30m \u001b[0;30m \u001b[0;30m \u001b[0;30m \u001b[0;30m \u001b[0;30m \u001b[0;30m \u001b[0;30m \u001b[0;30m \u001b[0;30m \u001b[0;30m \u001b[0;30m \u001b[0;30m \u001b[0;30m \u001b[0;30m \u001b[0;30m \u001b[0;30m \u001b[0;30m \u001b[0;30m \u001b[0;30m \u001b[0;30m \u001b[0;30m \u001b[0;30m \u001b[0;30m \u001b[0;30m \u001b[0;30m \u001b[0;30m \u001b[0;30m \u001b[0;30m \u001b[0;30m \u001b[0;30m \u001b[0;30m \u001b[0;30m \u001b[0;30m \u001b[0;30m \u001b[0;30m \u001b[0;30m \u001b[0;30m \u001b[0;30m \u001b[0;30m \u001b[0;30m \u001b[0;30m \u001b[0;30m \u001b[0;30m \u001b[0;30m \u001b[0;30m \u001b[0;30m \u001b[0;30m \u001b[0;30m \u001b[0;30m \u001b[0;30m \u001b[0;30m \u001b[0;30m \u001b[0;30m \u001b[0;30m \u001b[0;30m \u001b[0;30m \u001b[0;30m \u001b[0;30m \u001b[0;30m \u001b[0;30m \u001b[0;30m \u001b[0;30m \u001b[0;30m \u001b[0;30m \u001b[0;30m \u001b[0;30m \u001b[0;30m \u001b[0;30m \u001b[0;30m \u001b[0;30m \u001b[0;30m \u001b[0;30m \u001b[0;30m \u001b[0;30m \u001b[0;30m \n",
      "\u001b[0;30m \u001b[0;30m \u001b[0;30m \u001b[0;30m \u001b[0;30m \u001b[0;30m \u001b[0;30m \u001b[0;30m \u001b[0;30m \u001b[0;30m \u001b[0;30m \u001b[0;30m \u001b[0;30m \u001b[0;30m \u001b[0;30m \u001b[0;30m \u001b[0;30m \u001b[0;30m \u001b[0;30m \u001b[0;30m \u001b[0;30m \u001b[0;30m \u001b[0;37m-\u001b[0;37m-\u001b[0;37m-\u001b[0;37m-\u001b[0;37m-\u001b[0;37m-\u001b[0;37m-\u001b[0;37m-\u001b[0;37m-\u001b[0;37m-\u001b[0;37m-\u001b[0;37m-\u001b[0;37m-\u001b[0;37m-\u001b[0;37m-\u001b[0;37m-\u001b[0;30m \u001b[0;30m \u001b[0;30m \u001b[0;30m \u001b[0;37m-\u001b[0;37m-\u001b[0;37m-\u001b[0;37m-\u001b[0;37m-\u001b[0;37m-\u001b[0;37m-\u001b[0;37m-\u001b[0;37m-\u001b[0;37m-\u001b[0;37m-\u001b[0;37m-\u001b[0;37m-\u001b[0;37m-\u001b[0;37m-\u001b[0;30m \u001b[0;30m \u001b[0;30m \u001b[0;30m \u001b[0;30m \u001b[0;30m \u001b[0;30m \u001b[0;30m \u001b[0;30m \u001b[0;30m \u001b[0;30m \u001b[0;30m \u001b[0;30m \u001b[0;30m \u001b[0;30m \u001b[0;30m \u001b[0;30m \u001b[0;30m \u001b[0;30m \u001b[0;30m \u001b[0;30m \u001b[0;30m \u001b[0;30m \n",
      "\u001b[0;30m \u001b[0;30m \u001b[0;30m \u001b[0;30m \u001b[0;30m \u001b[0;30m \u001b[0;30m \u001b[0;30m \u001b[0;30m \u001b[0;30m \u001b[0;30m \u001b[0;30m \u001b[0;30m \u001b[0;30m \u001b[0;30m \u001b[0;30m \u001b[0;30m \u001b[0;30m \u001b[0;30m \u001b[0;30m \u001b[0;30m \u001b[0;30m \u001b[0;37m|\u001b[0;36m\"\u001b[0;37m.\u001b[0;37m.\u001b[0;37m.\u001b[0;37m.\u001b[0;37m.\u001b[0;37m.\u001b[0;37m.\u001b[0;37m.\u001b[0;37m.\u001b[0;36m(\u001b[0;33m+\u001b[0;37m.\u001b[0;37m.\u001b[0;37m.\u001b[0;30m \u001b[0;30m \u001b[0;30m \u001b[0;30m \u001b[0;37m|\u001b[0;37m.\u001b[0;37m.\u001b[0;37m.\u001b[0;37m.\u001b[0;37m.\u001b[1;30m.\u001b[0;37m.\u001b[0;37m.\u001b[0;37m.\u001b[0;37m.\u001b[0;37m.\u001b[0;37m.\u001b[0;37m>\u001b[0;37m|\u001b[0;30m \u001b[0;30m \u001b[0;30m \u001b[0;30m \u001b[0;30m \u001b[0;30m \u001b[0;30m \u001b[0;30m \u001b[0;30m \u001b[0;30m \u001b[0;30m \u001b[0;30m \u001b[0;30m \u001b[0;30m \u001b[0;30m \u001b[0;30m \u001b[0;30m \u001b[0;30m \u001b[0;30m \u001b[0;30m \u001b[0;30m \u001b[0;30m \u001b[0;30m \n",
      "\u001b[0;30m \u001b[0;30m \u001b[0;30m \u001b[0;30m \u001b[0;30m \u001b[0;30m \u001b[0;30m \u001b[0;30m \u001b[0;30m \u001b[0;30m \u001b[0;30m \u001b[0;30m \u001b[0;30m \u001b[0;30m \u001b[0;30m \u001b[0;30m \u001b[0;30m \u001b[0;30m \u001b[0;30m \u001b[0;30m \u001b[0;30m \u001b[0;30m \u001b[0;37m|\u001b[0;37m.\u001b[0;37m.\u001b[0;37m.\u001b[0;37m.\u001b[0;37m.\u001b[0;37m.\u001b[0;37m.\u001b[0;37m.\u001b[0;37m.\u001b[0;37m.\u001b[0;36m(\u001b[0;37m|\u001b[0;37m-\u001b[0;37m-\u001b[0;37m.\u001b[0;30m \u001b[0;30m \u001b[0;30m \u001b[0;30m \u001b[0;37m|\u001b[0;37m.\u001b[0;37m.\u001b[0;37m.\u001b[0;37m.\u001b[0;37m.\u001b[0;37m.\u001b[0;37m.\u001b[0;37m.\u001b[0;37m.\u001b[0;37m.\u001b[0;37m.\u001b[0;37m.\u001b[0;37m.\u001b[0;37m|\u001b[0;30m \u001b[0;30m \u001b[0;30m \u001b[0;30m \u001b[0;30m \u001b[0;30m \u001b[0;30m \u001b[0;30m \u001b[0;30m \u001b[0;30m \u001b[0;30m \u001b[0;30m \u001b[0;30m \u001b[0;30m \u001b[0;30m \u001b[0;30m \u001b[0;30m \u001b[0;30m \u001b[0;30m \u001b[0;30m \u001b[0;30m \u001b[0;30m \u001b[0;30m \n",
      "\u001b[0;30m \u001b[0;30m \u001b[0;30m \u001b[0;30m \u001b[0;30m \u001b[0;30m \u001b[0;30m \u001b[0;30m \u001b[0;30m \u001b[0;30m \u001b[0;30m \u001b[0;30m \u001b[0;30m \u001b[0;30m \u001b[0;30m \u001b[0;30m \u001b[0;30m \u001b[0;30m \u001b[0;30m \u001b[0;30m \u001b[0;30m \u001b[0;30m \u001b[0;37m|\u001b[0;37m.\u001b[0;36m)\u001b[0;37m.\u001b[0;37m[\u001b[0;37m.\u001b[0;36m)\u001b[0;37m.\u001b[0;37m!\u001b[0;37m.\u001b[0;33m)\u001b[0;37m.\u001b[0;37m|\u001b[0;30m \u001b[0;30m \u001b[0;37m.\u001b[0;30m \u001b[0;30m \u001b[0;30m \u001b[0;30m \u001b[0;37m|\u001b[0;37m.\u001b[0;37m.\u001b[0;37m.\u001b[1;30m.\u001b[0;37m.\u001b[0;37m.\u001b[0;37m.\u001b[0;37m.\u001b[0;37m.\u001b[0;37m.\u001b[0;37m.\u001b[0;37m.\u001b[0;37m.\u001b[0;37m|\u001b[0;30m \u001b[0;30m \u001b[0;30m \u001b[0;30m \u001b[0;30m \u001b[0;30m \u001b[0;30m \u001b[0;30m \u001b[0;30m \u001b[0;30m \u001b[0;30m \u001b[0;30m \u001b[0;30m \u001b[0;30m \u001b[0;30m \u001b[0;30m \u001b[0;30m \u001b[0;30m \u001b[0;30m \u001b[0;30m \u001b[0;30m \u001b[0;30m \u001b[0;30m \n",
      "\u001b[0;30m \u001b[0;30m \u001b[0;30m \u001b[0;30m \u001b[0;30m \u001b[0;30m \u001b[0;30m \u001b[0;30m \u001b[0;30m \u001b[0;30m \u001b[0;30m \u001b[0;30m \u001b[0;30m \u001b[0;30m \u001b[0;30m \u001b[0;30m \u001b[0;30m \u001b[0;30m \u001b[0;30m \u001b[0;30m \u001b[0;30m \u001b[0;30m \u001b[0;37m|\u001b[0;37m.\u001b[0;36m)\u001b[0;37m.\u001b[0;37m.\u001b[0;37m.\u001b[0;37m.\u001b[0;37m.\u001b[0;37m.\u001b[0;37m.\u001b[0;33m)\u001b[0;37m.\u001b[0;37m|\u001b[0;30m \u001b[0;30m \u001b[0;37m.\u001b[0;30m \u001b[0;30m \u001b[0;30m \u001b[0;30m \u001b[0;37m|\u001b[0;37m.\u001b[0;37m.\u001b[0;37m.\u001b[0;37m.\u001b[0;37m.\u001b[0;37m.\u001b[0;37m.\u001b[1;30m.\u001b[0;37m.\u001b[0;37m.\u001b[0;37m.\u001b[0;37m.\u001b[0;37m.\u001b[0;37m|\u001b[0;30m \u001b[0;30m \u001b[0;30m \u001b[0;30m \u001b[0;30m \u001b[0;30m \u001b[0;30m \u001b[0;30m \u001b[0;30m \u001b[0;30m \u001b[0;30m \u001b[0;30m \u001b[0;30m \u001b[0;30m \u001b[0;30m \u001b[0;30m \u001b[0;30m \u001b[0;30m \u001b[0;30m \u001b[0;30m \u001b[0;30m \u001b[0;30m \u001b[0;30m \n",
      "\u001b[0;30m \u001b[0;30m \u001b[0;30m \u001b[0;30m \u001b[0;30m \u001b[0;30m \u001b[0;30m \u001b[0;30m \u001b[0;30m \u001b[0;30m \u001b[0;30m \u001b[0;30m \u001b[0;30m \u001b[0;30m \u001b[0;30m \u001b[0;30m \u001b[0;30m \u001b[0;30m \u001b[0;30m \u001b[0;30m \u001b[0;30m \u001b[0;30m \u001b[0;37m|\u001b[0;37m.\u001b[0;36m)\u001b[0;37m.\u001b[0;37m.\u001b[0;37m.\u001b[0;37m.\u001b[0;37m.\u001b[0;37m.\u001b[0;37m.\u001b[0;33m)\u001b[0;37m.\u001b[0;37m|\u001b[0;30m \u001b[0;30m \u001b[0;37m.\u001b[0;30m \u001b[0;30m \u001b[0;30m \u001b[0;30m \u001b[0;37m|\u001b[0;37m.\u001b[0;37m.\u001b[0;37m.\u001b[0;37m.\u001b[0;37m.\u001b[0;37m.\u001b[0;37m.\u001b[0;37m.\u001b[0;37m.\u001b[0;37m.\u001b[0;37m.\u001b[0;37m.\u001b[0;37m.\u001b[0;37m|\u001b[0;30m \u001b[0;30m \u001b[0;30m \u001b[0;30m \u001b[0;30m \u001b[0;30m \u001b[0;30m \u001b[0;30m \u001b[0;30m \u001b[0;30m \u001b[0;30m \u001b[0;30m \u001b[0;30m \u001b[0;30m \u001b[0;30m \u001b[0;30m \u001b[0;30m \u001b[0;30m \u001b[0;30m \u001b[0;30m \u001b[0;30m \u001b[0;30m \u001b[0;30m \n",
      "\u001b[0;30m \u001b[0;30m \u001b[0;30m \u001b[0;30m \u001b[0;30m \u001b[0;30m \u001b[0;30m \u001b[0;30m \u001b[0;30m \u001b[0;30m \u001b[0;30m \u001b[0;30m \u001b[0;30m \u001b[0;30m \u001b[0;30m \u001b[0;30m \u001b[0;30m \u001b[0;30m \u001b[0;30m \u001b[0;30m \u001b[0;30m \u001b[0;30m \u001b[0;37m|\u001b[4m\u001b[1;37m@\u001b[0m\u001b[0;37m.\u001b[0;37m.\u001b[0;37m.\u001b[0;37m.\u001b[0;37m.\u001b[0;37m.\u001b[0;37m.\u001b[0;37m.\u001b[0;37m.\u001b[0;37m.\u001b[0;37m|\u001b[0;30m \u001b[0;30m \u001b[0;37m.\u001b[0;30m \u001b[0;30m \u001b[0;30m \u001b[0;30m \u001b[0;37m|\u001b[0;37m.\u001b[0;37m.\u001b[0;37m.\u001b[0;37m.\u001b[0;37m.\u001b[0;37m.\u001b[0;37m.\u001b[0;37m.\u001b[0;37m.\u001b[0;37m.\u001b[0;37m.\u001b[0;37m.\u001b[0;37m.\u001b[0;37m|\u001b[0;30m \u001b[0;30m \u001b[0;30m \u001b[0;30m \u001b[0;30m \u001b[0;30m \u001b[0;30m \u001b[0;30m \u001b[0;30m \u001b[0;30m \u001b[0;30m \u001b[0;30m \u001b[0;30m \u001b[0;30m \u001b[0;30m \u001b[0;30m \u001b[0;30m \u001b[0;30m \u001b[0;30m \u001b[0;30m \u001b[0;30m \u001b[0;30m \u001b[0;30m \n",
      "\u001b[0;30m \u001b[0;30m \u001b[0;30m \u001b[0;30m \u001b[0;30m \u001b[0;30m \u001b[0;30m \u001b[0;30m \u001b[0;30m \u001b[0;30m \u001b[0;30m \u001b[0;30m \u001b[0;30m \u001b[0;30m \u001b[0;30m \u001b[0;30m \u001b[0;30m \u001b[0;30m \u001b[0;30m \u001b[0;30m \u001b[0;30m \u001b[0;30m \u001b[0;37m-\u001b[0;37m-\u001b[0;37m-\u001b[0;37m-\u001b[0;37m-\u001b[0;37m-\u001b[0;37m-\u001b[0;37m-\u001b[0;37m-\u001b[0;37m-\u001b[0;37m-\u001b[0;37m-\u001b[0;37m-\u001b[0;30m \u001b[0;30m \u001b[0;37m.\u001b[0;30m \u001b[0;30m \u001b[0;30m \u001b[0;30m \u001b[0;37m|\u001b[0;37m.\u001b[0;37m.\u001b[0;37m.\u001b[0;37m.\u001b[0;37m.\u001b[0;37m.\u001b[0;37m.\u001b[0;37m.\u001b[0;37m.\u001b[0;37m.\u001b[0;37m.\u001b[0;37m.\u001b[0;37m.\u001b[0;37m|\u001b[0;30m \u001b[0;30m \u001b[0;30m \u001b[0;30m \u001b[0;30m \u001b[0;30m \u001b[0;30m \u001b[0;30m \u001b[0;30m \u001b[0;30m \u001b[0;30m \u001b[0;30m \u001b[0;30m \u001b[0;30m \u001b[0;30m \u001b[0;30m \u001b[0;30m \u001b[0;30m \u001b[0;30m \u001b[0;30m \u001b[0;30m \u001b[0;30m \u001b[0;30m \n",
      "\u001b[0;30m \u001b[0;30m \u001b[0;30m \u001b[0;30m \u001b[0;30m \u001b[0;30m \u001b[0;30m \u001b[0;30m \u001b[0;30m \u001b[0;30m \u001b[0;30m \u001b[0;30m \u001b[0;30m \u001b[0;30m \u001b[0;30m \u001b[0;30m \u001b[0;30m \u001b[0;30m \u001b[0;30m \u001b[0;30m \u001b[0;30m \u001b[0;30m \u001b[0;30m \u001b[0;30m \u001b[0;30m \u001b[0;30m \u001b[0;30m \u001b[0;30m \u001b[0;30m \u001b[0;30m \u001b[0;30m \u001b[0;30m \u001b[0;30m \u001b[0;30m \u001b[0;30m \u001b[0;30m \u001b[0;30m \u001b[0;37m.\u001b[0;30m \u001b[0;30m \u001b[0;30m \u001b[0;30m \u001b[0;37m|\u001b[0;37m.\u001b[0;37m.\u001b[0;37m.\u001b[0;37m.\u001b[0;37m.\u001b[0;37m.\u001b[0;37m.\u001b[0;37m.\u001b[0;37m.\u001b[0;37m.\u001b[0;37m.\u001b[0;37m.\u001b[0;37m.\u001b[0;37m|\u001b[0;30m \u001b[0;30m \u001b[0;30m \u001b[0;30m \u001b[0;30m \u001b[0;30m \u001b[0;30m \u001b[0;30m \u001b[0;30m \u001b[0;30m \u001b[0;30m \u001b[0;30m \u001b[0;30m \u001b[0;30m \u001b[0;30m \u001b[0;30m \u001b[0;30m \u001b[0;30m \u001b[0;30m \u001b[0;30m \u001b[0;30m \u001b[0;30m \u001b[0;30m \n",
      "\u001b[0;30m \u001b[0;30m \u001b[0;30m \u001b[0;30m \u001b[0;30m \u001b[0;30m \u001b[0;30m \u001b[0;30m \u001b[0;30m \u001b[0;30m \u001b[0;30m \u001b[0;30m \u001b[0;30m \u001b[0;30m \u001b[0;30m \u001b[0;30m \u001b[0;30m \u001b[0;30m \u001b[0;30m \u001b[0;30m \u001b[0;30m \u001b[0;30m \u001b[0;30m \u001b[0;30m \u001b[0;30m \u001b[0;30m \u001b[0;30m \u001b[0;30m \u001b[0;30m \u001b[0;30m \u001b[0;30m \u001b[0;30m \u001b[0;30m \u001b[0;30m \u001b[0;30m \u001b[0;30m \u001b[0;30m \u001b[0;37m.\u001b[0;30m \u001b[0;30m \u001b[0;30m \u001b[0;30m \u001b[0;37m|\u001b[0;37m.\u001b[0;37m.\u001b[0;37m.\u001b[0;37m.\u001b[1;30m.\u001b[0;37m.\u001b[0;37m.\u001b[0;37m.\u001b[0;37m.\u001b[0;37m.\u001b[0;37m.\u001b[0;37m.\u001b[0;37m.\u001b[0;37m|\u001b[0;30m \u001b[0;30m \u001b[0;30m \u001b[0;30m \u001b[0;30m \u001b[0;30m \u001b[0;30m \u001b[0;30m \u001b[0;30m \u001b[0;30m \u001b[0;30m \u001b[0;30m \u001b[0;30m \u001b[0;30m \u001b[0;30m \u001b[0;30m \u001b[0;30m \u001b[0;30m \u001b[0;30m \u001b[0;30m \u001b[0;30m \u001b[0;30m \u001b[0;30m \n",
      "\u001b[0;30m \u001b[0;30m \u001b[0;30m \u001b[0;30m \u001b[0;30m \u001b[0;30m \u001b[0;30m \u001b[0;30m \u001b[0;30m \u001b[0;30m \u001b[0;30m \u001b[0;30m \u001b[0;30m \u001b[0;30m \u001b[0;30m \u001b[0;30m \u001b[0;30m \u001b[0;30m \u001b[0;30m \u001b[0;30m \u001b[0;30m \u001b[0;30m \u001b[0;30m \u001b[0;30m \u001b[0;30m \u001b[0;30m \u001b[0;30m \u001b[0;30m \u001b[0;30m \u001b[0;30m \u001b[0;30m \u001b[0;30m \u001b[0;30m \u001b[0;30m \u001b[0;30m \u001b[0;30m \u001b[0;30m \u001b[0;37m.\u001b[0;30m \u001b[0;30m \u001b[0;30m \u001b[0;30m \u001b[0;37m|\u001b[0;37m.\u001b[0;37m.\u001b[0;37m.\u001b[1;30m.\u001b[0;37m.\u001b[0;37m.\u001b[0;37m.\u001b[0;37m.\u001b[0;37m.\u001b[0;37m.\u001b[0;37m.\u001b[0;37m.\u001b[0;37m.\u001b[0;37m|\u001b[0;30m \u001b[0;30m \u001b[0;30m \u001b[0;30m \u001b[0;30m \u001b[0;30m \u001b[0;30m \u001b[0;30m \u001b[0;30m \u001b[0;30m \u001b[0;30m \u001b[0;30m \u001b[0;30m \u001b[0;30m \u001b[0;30m \u001b[0;30m \u001b[0;30m \u001b[0;30m \u001b[0;30m \u001b[0;30m \u001b[0;30m \u001b[0;30m \u001b[0;30m \n",
      "\u001b[0;30m \u001b[0;30m \u001b[0;30m \u001b[0;30m \u001b[0;30m \u001b[0;30m \u001b[0;30m \u001b[0;30m \u001b[0;30m \u001b[0;30m \u001b[0;30m \u001b[0;30m \u001b[0;30m \u001b[0;30m \u001b[0;30m \u001b[0;30m \u001b[0;30m \u001b[0;30m \u001b[0;30m \u001b[0;30m \u001b[0;30m \u001b[0;30m \u001b[0;30m \u001b[0;30m \u001b[0;30m \u001b[0;30m \u001b[0;30m \u001b[0;30m \u001b[0;30m \u001b[0;30m \u001b[0;30m \u001b[0;30m \u001b[0;30m \u001b[0;30m \u001b[0;30m \u001b[0;30m \u001b[0;30m \u001b[0;37m.\u001b[0;30m \u001b[0;30m \u001b[0;30m \u001b[0;30m \u001b[0;37m|\u001b[0;37m.\u001b[0;37m.\u001b[0;37m.\u001b[0;37m.\u001b[0;37m.\u001b[0;37m.\u001b[0;37m.\u001b[0;37m.\u001b[0;37m.\u001b[0;37m.\u001b[0;37m.\u001b[0;37m.\u001b[0;37m.\u001b[0;37m|\u001b[0;30m \u001b[0;30m \u001b[0;30m \u001b[0;30m \u001b[0;30m \u001b[0;30m \u001b[0;30m \u001b[0;30m \u001b[0;30m \u001b[0;30m \u001b[0;30m \u001b[0;30m \u001b[0;30m \u001b[0;30m \u001b[0;30m \u001b[0;30m \u001b[0;30m \u001b[0;30m \u001b[0;30m \u001b[0;30m \u001b[0;30m \u001b[0;30m \u001b[0;30m \n",
      "\u001b[0;30m \u001b[0;30m \u001b[0;30m \u001b[0;30m \u001b[0;30m \u001b[0;30m \u001b[0;30m \u001b[0;30m \u001b[0;30m \u001b[0;30m \u001b[0;30m \u001b[0;30m \u001b[0;30m \u001b[0;30m \u001b[0;30m \u001b[0;30m \u001b[0;30m \u001b[0;30m \u001b[0;30m \u001b[0;30m \u001b[0;30m \u001b[0;30m \u001b[0;30m \u001b[0;30m \u001b[0;30m \u001b[0;30m \u001b[0;30m \u001b[0;30m \u001b[0;30m \u001b[0;30m \u001b[0;30m \u001b[0;30m \u001b[0;30m \u001b[0;30m \u001b[0;30m \u001b[0;30m \u001b[0;30m \u001b[0;37m.\u001b[0;37m.\u001b[0;37m.\u001b[0;37m.\u001b[0;37m.\u001b[0;33m+\u001b[0;37m.\u001b[0;37m.\u001b[0;37m.\u001b[0;37m.\u001b[0;37m.\u001b[0;37m.\u001b[0;37m.\u001b[1;30m.\u001b[0;37m.\u001b[0;37m.\u001b[0;37m.\u001b[0;37m.\u001b[0;37m.\u001b[0;37m|\u001b[0;30m \u001b[0;30m \u001b[0;30m \u001b[0;30m \u001b[0;30m \u001b[0;30m \u001b[0;30m \u001b[0;30m \u001b[0;30m \u001b[0;30m \u001b[0;30m \u001b[0;30m \u001b[0;30m \u001b[0;30m \u001b[0;30m \u001b[0;30m \u001b[0;30m \u001b[0;30m \u001b[0;30m \u001b[0;30m \u001b[0;30m \u001b[0;30m \u001b[0;30m \n",
      "\u001b[0;30m \u001b[0;30m \u001b[0;30m \u001b[0;30m \u001b[0;30m \u001b[0;30m \u001b[0;30m \u001b[0;30m \u001b[0;30m \u001b[0;30m \u001b[0;30m \u001b[0;30m \u001b[0;30m \u001b[0;30m \u001b[0;30m \u001b[0;30m \u001b[0;30m \u001b[0;30m \u001b[0;30m \u001b[0;30m \u001b[0;30m \u001b[0;30m \u001b[0;30m \u001b[0;30m \u001b[0;30m \u001b[0;30m \u001b[0;30m \u001b[0;30m \u001b[0;30m \u001b[0;30m \u001b[0;30m \u001b[0;30m \u001b[0;30m \u001b[0;30m \u001b[0;30m \u001b[0;30m \u001b[0;30m \u001b[0;30m \u001b[0;30m \u001b[0;30m \u001b[0;30m \u001b[0;30m \u001b[0;37m-\u001b[0;37m-\u001b[0;37m-\u001b[0;37m-\u001b[0;37m-\u001b[0;37m-\u001b[0;37m-\u001b[0;37m-\u001b[0;37m-\u001b[0;37m-\u001b[0;37m-\u001b[0;37m-\u001b[0;37m-\u001b[0;37m-\u001b[0;37m-\u001b[0;30m \u001b[0;30m \u001b[0;30m \u001b[0;30m \u001b[0;30m \u001b[0;30m \u001b[0;30m \u001b[0;30m \u001b[0;30m \u001b[0;30m \u001b[0;30m \u001b[0;30m \u001b[0;30m \u001b[0;30m \u001b[0;30m \u001b[0;30m \u001b[0;30m \u001b[0;30m \u001b[0;30m \u001b[0;30m \u001b[0;30m \u001b[0;30m \u001b[0;30m \n",
      "\u001b[0;30m \u001b[0;30m \u001b[0;30m \u001b[0;30m \u001b[0;30m \u001b[0;30m \u001b[0;30m \u001b[0;30m \u001b[0;30m \u001b[0;30m \u001b[0;30m \u001b[0;30m \u001b[0;30m \u001b[0;30m \u001b[0;30m \u001b[0;30m \u001b[0;30m \u001b[0;30m \u001b[0;30m \u001b[0;30m \u001b[0;30m \u001b[0;30m \u001b[0;30m \u001b[0;30m \u001b[0;30m \u001b[0;30m \u001b[0;30m \u001b[0;30m \u001b[0;30m \u001b[0;30m \u001b[0;30m \u001b[0;30m \u001b[0;30m \u001b[0;30m \u001b[0;30m \u001b[0;30m \u001b[0;30m \u001b[0;30m \u001b[0;30m \u001b[0;30m \u001b[0;30m \u001b[0;30m \u001b[0;30m \u001b[0;30m \u001b[0;30m \u001b[0;30m \u001b[0;30m \u001b[0;30m \u001b[0;30m \u001b[0;30m \u001b[0;30m \u001b[0;30m \u001b[0;30m \u001b[0;30m \u001b[0;30m \u001b[0;30m \u001b[0;30m \u001b[0;30m \u001b[0;30m \u001b[0;30m \u001b[0;30m \u001b[0;30m \u001b[0;30m \u001b[0;30m \u001b[0;30m \u001b[0;30m \u001b[0;30m \u001b[0;30m \u001b[0;30m \u001b[0;30m \u001b[0;30m \u001b[0;30m \u001b[0;30m \u001b[0;30m \u001b[0;30m \u001b[0;30m \u001b[0;30m \u001b[0;30m \u001b[0;30m \u001b[0;30m \n",
      "\u001b[0;30m \u001b[0;30m \u001b[0;30m \u001b[0;30m \u001b[0;30m \u001b[0;30m \u001b[0;30m \u001b[0;30m \u001b[0;30m \u001b[0;30m \u001b[0;30m \u001b[0;30m \u001b[0;30m \u001b[0;30m \u001b[0;30m \u001b[0;30m \u001b[0;30m \u001b[0;30m \u001b[0;30m \u001b[0;30m \u001b[0;30m \u001b[0;30m \u001b[0;30m \u001b[0;30m \u001b[0;30m \u001b[0;30m \u001b[0;30m \u001b[0;30m \u001b[0;30m \u001b[0;30m \u001b[0;30m \u001b[0;30m \u001b[0;30m \u001b[0;30m \u001b[0;30m \u001b[0;30m \u001b[0;30m \u001b[0;30m \u001b[0;30m \u001b[0;30m \u001b[0;30m \u001b[0;30m \u001b[0;30m \u001b[0;30m \u001b[0;30m \u001b[0;30m \u001b[0;30m \u001b[0;30m \u001b[0;30m \u001b[0;30m \u001b[0;30m \u001b[0;30m \u001b[0;30m \u001b[0;30m \u001b[0;30m \u001b[0;30m \u001b[0;30m \u001b[0;30m \u001b[0;30m \u001b[0;30m \u001b[0;30m \u001b[0;30m \u001b[0;30m \u001b[0;30m \u001b[0;30m \u001b[0;30m \u001b[0;30m \u001b[0;30m \u001b[0;30m \u001b[0;30m \u001b[0;30m \u001b[0;30m \u001b[0;30m \u001b[0;30m \u001b[0;30m \u001b[0;30m \u001b[0;30m \u001b[0;30m \u001b[0;30m \u001b[0;30m \n",
      "\u001b[0;37mW\u001b[0;37mi\u001b[0;37mz\u001b[0;37ma\u001b[0;37mr\u001b[0;37md\u001b[0;30m \u001b[0;37mt\u001b[0;37mh\u001b[0;37me\u001b[0;30m \u001b[0;37mT\u001b[0;37mr\u001b[0;37mo\u001b[0;37mg\u001b[0;37ml\u001b[0;37mo\u001b[0;37md\u001b[0;37my\u001b[0;37mt\u001b[0;37me\u001b[0;30m \u001b[0;30m \u001b[0;30m \u001b[0;30m \u001b[0;30m \u001b[0;30m \u001b[0;30m \u001b[0;30m \u001b[0;30m \u001b[0;30m \u001b[0;37mS\u001b[0;37mt\u001b[0;37m:\u001b[0;37m1\u001b[0;37m8\u001b[0;30m \u001b[0;37mD\u001b[0;37mx\u001b[0;37m:\u001b[0;37m1\u001b[0;37m4\u001b[0;30m \u001b[0;37mC\u001b[0;37mo\u001b[0;37m:\u001b[0;37m1\u001b[0;37m5\u001b[0;30m \u001b[0;37mI\u001b[0;37mn\u001b[0;37m:\u001b[0;37m8\u001b[0;30m \u001b[0;37mW\u001b[0;37mi\u001b[0;37m:\u001b[0;37m1\u001b[0;37m1\u001b[0;30m \u001b[0;37mC\u001b[0;37mh\u001b[0;37m:\u001b[0;37m9\u001b[0;30m \u001b[0;37mL\u001b[0;37ma\u001b[0;37mw\u001b[0;37mf\u001b[0;37mu\u001b[0;37ml\u001b[0;30m \u001b[0;37mS\u001b[0;37m:\u001b[0;37m0\u001b[0;30m \u001b[0;30m \u001b[0;30m \u001b[0;30m \u001b[0;30m \n",
      "\u001b[0;37mD\u001b[0;37ml\u001b[0;37mv\u001b[0;37ml\u001b[0;37m:\u001b[0;37m1\u001b[0;30m \u001b[0;37m$\u001b[0;37m:\u001b[0;37m0\u001b[0;30m \u001b[0;37mH\u001b[0;37mP\u001b[0;37m:\u001b[0;37m1\u001b[0;37m8\u001b[0;37m(\u001b[0;37m1\u001b[0;37m8\u001b[0;37m)\u001b[0;30m \u001b[0;37mP\u001b[0;37mw\u001b[0;37m:\u001b[0;37m1\u001b[0;37m(\u001b[0;37m1\u001b[0;37m)\u001b[0;30m \u001b[0;37mA\u001b[0;37mC\u001b[0;37m:\u001b[0;37m8\u001b[0;30m \u001b[0;37mX\u001b[0;37mp\u001b[0;37m:\u001b[0;37m1\u001b[0;37m/\u001b[0;37m0\u001b[0;30m \u001b[0;30m \u001b[0;30m \u001b[0;30m \u001b[0;30m \u001b[0;30m \u001b[0;30m \u001b[0;30m \u001b[0;30m \u001b[0;30m \u001b[0;30m \u001b[0;30m \u001b[0;30m \u001b[0;30m \u001b[0;30m \u001b[0;30m \u001b[0;30m \u001b[0;30m \u001b[0;30m \u001b[0;30m \u001b[0;30m \u001b[0;30m \u001b[0;30m \u001b[0;30m \u001b[0;30m \u001b[0;30m \u001b[0;30m \u001b[0;30m \u001b[0;30m \u001b[0;30m \u001b[0;30m \u001b[0;30m \u001b[0;30m \u001b[0;30m \u001b[0;30m \u001b[0;30m \u001b[0;30m \u001b[0;30m \u001b[0;30m \u001b[0;30m \u001b[0m\n"
     ]
    },
    {
     "name": "stderr",
     "output_type": "stream",
     "text": [
      "Warning: NetHack asked for env variable USER\n",
      "Warning: NetHack asked for env variable SPCODER_MAX_RUNTIME\n"
     ]
    }
   ],
   "source": [
    "des_file,_=run.completemapdes(3,17)\n",
    "env = gym.make(\"MiniHack-Skill-Custom-v0\",\n",
    "                        character=\"Agent-cav-hum-neu-mal\",\n",
    "                        observation_keys=('screen_descriptions','inv_strs','blstats','message','pixel','chars','inv_oclasses','glyphs'),\n",
    "                        wizard = True,\n",
    "                        max_episode_steps = MAX_STEPS ,\n",
    "                        options =(\n",
    "                            \"color\",  # Display color for different monsters, objects, etc\n",
    "                            \"showexp\",  # Display the experience points on the status line\n",
    "                            \"nobones\",  # Disallow saving and loading bones files\n",
    "                            \"nolegacy\",  # Not display an introductory message when starting the game\n",
    "                            \"nocmdassist\",  # No command assistance\n",
    "                            \"disclose:+i +a +v +g +c +o\",  # End of game prompt replies\n",
    "                            \"runmode:teleport\",  # Update the map after movement has finished\n",
    "                            \"mention_walls\",  # Give feedback when walking against a wall\n",
    "                            \"nosparkle\",  # Not display sparkly effect for resisted magical attacks\n",
    "                            \"showscore\",  # Shows approximate accumulated score on the bottom line\n",
    "                            \"race:dwa\",\"gender:mal\",\"align:neu\",\"role:cav\",\n",
    "                            \"!autopickup\",\n",
    "                            \"pettype:none\",\n",
    "                        ),\n",
    "                        des_file=des_file\n",
    "                )\n",
    "obs=env.reset(wizkit_items = ['20 scroll of fire','6 potion of confusion','unicorn horn'])\n",
    "\n",
    "env.render()"
   ]
  },
  {
   "cell_type": "code",
   "execution_count": null,
   "metadata": {},
   "outputs": [],
   "source": [
    "average_duration=sum(map(len,simulations))/len(simulations)\n",
    "max_duration=max(map(len,simulations))\n",
    "min_duration=min(map(len,simulations))\n",
    "\n",
    "print(f\"{len(simulations)} simulations have been done, the agent lasted for {average_duration} levels on average, with a max of {max_duration} and a minimum of {min_duration}\")\n",
    "\n",
    "def levels_avg_metrics(simulations):\n",
    "    max_duration=max(map(len,simulations))\n",
    "    level_groups=[]\n",
    "    #group levels by their number\n",
    "    for i in range(max_duration):\n",
    "        avg_metric=[]\n",
    "        for s in simulations:\n",
    "            if len(s) > i: avg_metric.append(s[i])\n",
    "        level_groups.append(avg_metric)\n",
    "    result=[]\n",
    "    keys=level_groups[0][0].keys()\n",
    "    #for each group of levels calculate the average on each metric\n",
    "    for lvl in level_groups:\n",
    "        avg=dict()\n",
    "        for k in keys: avg[k]=0\n",
    "\n",
    "        for m in lvl:\n",
    "            for k in m.keys():\n",
    "                avg[k]+=m[k]\n",
    "        \n",
    "        for k in keys: avg[k]/=len(lvl)\n",
    "        #store the result for the current level group\n",
    "        result.append(avg)\n",
    "    return result\n",
    "print(levels_avg_metrics(simulations))\n",
    "\n",
    "plot_all_metrics(levels_avg_metrics(simulations))\n"
   ]
  },
  {
   "cell_type": "code",
   "execution_count": null,
   "metadata": {},
   "outputs": [],
   "source": []
  }
 ],
 "metadata": {
  "kernelspec": {
   "display_name": "nle",
   "language": "python",
   "name": "python3"
  },
  "language_info": {
   "codemirror_mode": {
    "name": "ipython",
    "version": 3
   },
   "file_extension": ".py",
   "mimetype": "text/x-python",
   "name": "python",
   "nbconvert_exporter": "python",
   "pygments_lexer": "ipython3",
   "version": "3.10.13"
  }
 },
 "nbformat": 4,
 "nbformat_minor": 2
}
